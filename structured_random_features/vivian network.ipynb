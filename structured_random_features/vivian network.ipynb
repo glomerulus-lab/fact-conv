{
 "cells": [
  {
   "cell_type": "code",
   "execution_count": 1,
   "id": "443784aa",
   "metadata": {},
   "outputs": [
    {
     "name": "stderr",
     "output_type": "stream",
     "text": [
      "/home/whitev4/anaconda3/envs/random_features/lib/python3.8/site-packages/requests/__init__.py:109: RequestsDependencyWarning: urllib3 (1.26.9) or chardet (5.0.0)/charset_normalizer (2.0.4) doesn't match a supported version!\n",
      "  warnings.warn(\n"
     ]
    }
   ],
   "source": [
    "from os import getcwd, makedirs\n",
    "from os.path import join, abspath, exists\n",
    "\n",
    "from copy import deepcopy\n",
    "from joblib import Parallel, delayed, parallel_backend\n",
    "import matplotlib.pyplot as plt\n",
    "import numpy as np\n",
    "import pickle\n",
    "from sklearn.model_selection import train_test_split\n",
    "from sklearn.svm import LinearSVC\n",
    "from tqdm import tqdm\n",
    "\n",
    "from src.models.estimator import RFClassifier, relu\n",
    "from src.models.weights import V1_weights, classical_weights\n",
    "from src.data.load_dataset import load_mnist\n",
    "from sklearn.linear_model import LogisticRegression"
   ]
  },
  {
   "cell_type": "code",
   "execution_count": 2,
   "id": "99e291d1",
   "metadata": {},
   "outputs": [],
   "source": [
    "data_dir = abspath(join(getcwd(), '../../'))"
   ]
  },
  {
   "cell_type": "code",
   "execution_count": 3,
   "id": "63e73f12",
   "metadata": {},
   "outputs": [],
   "source": [
    "# load dataset\n",
    "train_loader, val_loader, test_loader = load_mnist()\n",
    "train, test = train_loader.dataset.dataset, test_loader.dataset\n",
    "train, train_labels = train.data.numpy(), train.targets.numpy()\n",
    "X_test, y_test = test.data.numpy(), test.targets.numpy()\n",
    "\n",
    "X_train, X_val, y_train, y_val = train_test_split(train, train_labels, train_size=0.999, stratify=train_labels)"
   ]
  },
  {
   "cell_type": "code",
   "execution_count": 4,
   "id": "7550b5aa",
   "metadata": {},
   "outputs": [],
   "source": [
    "num_neurons = 100\n",
    "num_trials = 5\n",
    "nonlinearity = relu\n",
    "bias = 0\n",
    "scale = 1\n",
    "clf = LinearSVC(tol=1e-4, max_iter=1000)\n",
    "n_jobs=3\n",
    "\n",
    "# V1 params\n",
    "compatible = {'s': 5, 'f':2}\n",
    "incompatible = {'s': 0.5, 'f':0.5}"
   ]
  },
  {
   "cell_type": "markdown",
   "id": "264886c7",
   "metadata": {},
   "source": [
    "### V1 weights RFNet + optimal parameters"
   ]
  },
  {
   "cell_type": "code",
   "execution_count": 5,
   "id": "7e77c98d",
   "metadata": {},
   "outputs": [
    {
     "name": "stderr",
     "output_type": "stream",
     "text": [
      "/home/whitev4/anaconda3/envs/random_features/lib/python3.8/site-packages/sklearn/svm/_base.py:1225: ConvergenceWarning: Liblinear failed to converge, increase the number of iterations.\n",
      "  warnings.warn(\n"
     ]
    },
    {
     "data": {
      "text/plain": [
       "0.9333333333333333"
      ]
     },
     "execution_count": 5,
     "metadata": {},
     "output_type": "execute_result"
    }
   ],
   "source": [
    "s, f = compatible['s'], compatible['f']\n",
    "kwargs = {'size':s, 'spatial_freq':f, 'center':None, 'scale':scale}\n",
    "\n",
    "clf1 = RFClassifier(num_neurons, V1_weights, bias, nonlinearity, deepcopy(clf), kwargs);\n",
    "clf1.fit(X_train, y_train)\n",
    "clf1.score(X_val, y_val)"
   ]
  },
  {
   "cell_type": "code",
   "execution_count": 6,
   "id": "a63e56c6",
   "metadata": {},
   "outputs": [
    {
     "data": {
      "text/plain": [
       "0.9123"
      ]
     },
     "execution_count": 6,
     "metadata": {},
     "output_type": "execute_result"
    }
   ],
   "source": [
    "clf1.score(X_test, y_test)"
   ]
  },
  {
   "cell_type": "markdown",
   "id": "8e444f14",
   "metadata": {},
   "source": [
    "### Classical weights RFNet"
   ]
  },
  {
   "cell_type": "code",
   "execution_count": 7,
   "id": "6c570dff",
   "metadata": {},
   "outputs": [
    {
     "name": "stderr",
     "output_type": "stream",
     "text": [
      "/home/whitev4/anaconda3/envs/random_features/lib/python3.8/site-packages/sklearn/svm/_base.py:1225: ConvergenceWarning: Liblinear failed to converge, increase the number of iterations.\n",
      "  warnings.warn(\n"
     ]
    },
    {
     "data": {
      "text/plain": [
       "0.8166666666666667"
      ]
     },
     "execution_count": 7,
     "metadata": {},
     "output_type": "execute_result"
    }
   ],
   "source": [
    "kwargs = {'scale':scale}\n",
    "clf2 = RFClassifier(num_neurons, classical_weights, bias, nonlinearity, deepcopy(clf), kwargs);\n",
    "clf2.fit(X_train, y_train)\n",
    "clf2.score(X_val, y_val)"
   ]
  },
  {
   "cell_type": "code",
   "execution_count": 8,
   "id": "2031b351",
   "metadata": {},
   "outputs": [
    {
     "data": {
      "text/plain": [
       "0.8205"
      ]
     },
     "execution_count": 8,
     "metadata": {},
     "output_type": "execute_result"
    }
   ],
   "source": [
    "clf2.score(X_test, y_test)"
   ]
  },
  {
   "cell_type": "markdown",
   "id": "7d8e1ec9",
   "metadata": {},
   "source": [
    "### \"Incompatible\" weights RFNet"
   ]
  },
  {
   "cell_type": "code",
   "execution_count": 9,
   "id": "19b72de8",
   "metadata": {},
   "outputs": [
    {
     "name": "stderr",
     "output_type": "stream",
     "text": [
      "/home/whitev4/anaconda3/envs/random_features/lib/python3.8/site-packages/sklearn/svm/_base.py:1225: ConvergenceWarning: Liblinear failed to converge, increase the number of iterations.\n",
      "  warnings.warn(\n"
     ]
    },
    {
     "data": {
      "text/plain": [
       "0.7"
      ]
     },
     "execution_count": 9,
     "metadata": {},
     "output_type": "execute_result"
    }
   ],
   "source": [
    "s, f = incompatible['s'], incompatible['f']\n",
    "kwargs = {'size':s, 'spatial_freq':f, 'center':None, 'scale':scale}\n",
    "clf3 = RFClassifier(num_neurons, V1_weights, bias, nonlinearity, deepcopy(clf), kwargs)\n",
    "clf3.fit(X_train, y_train)\n",
    "clf3.score(X_val, y_val)"
   ]
  },
  {
   "cell_type": "code",
   "execution_count": 10,
   "id": "aece04b3",
   "metadata": {},
   "outputs": [
    {
     "data": {
      "text/plain": [
       "0.7163"
      ]
     },
     "execution_count": 10,
     "metadata": {},
     "output_type": "execute_result"
    }
   ],
   "source": [
    "clf3.score(X_test, y_test)"
   ]
  },
  {
   "cell_type": "code",
   "execution_count": null,
   "id": "8c6783f4",
   "metadata": {},
   "outputs": [],
   "source": []
  }
 ],
 "metadata": {
  "kernelspec": {
   "display_name": "Python 3 (ipykernel)",
   "language": "python",
   "name": "python3"
  },
  "language_info": {
   "codemirror_mode": {
    "name": "ipython",
    "version": 3
   },
   "file_extension": ".py",
   "mimetype": "text/x-python",
   "name": "python",
   "nbconvert_exporter": "python",
   "pygments_lexer": "ipython3",
   "version": "3.8.13"
  }
 },
 "nbformat": 4,
 "nbformat_minor": 5
}
