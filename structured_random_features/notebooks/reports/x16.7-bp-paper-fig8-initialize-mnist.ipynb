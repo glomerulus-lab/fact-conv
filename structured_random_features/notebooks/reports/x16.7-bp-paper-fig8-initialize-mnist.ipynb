{
 "cells": [
  {
   "cell_type": "code",
   "execution_count": 1,
   "metadata": {},
   "outputs": [],
   "source": [
    "from os import getcwd\n",
    "from os.path import abspath, join\n",
    "\n",
    "import matplotlib as mpl\n",
    "import matplotlib.pyplot as plt\n",
    "import matplotlib.colors as mpc\n",
    "import numpy as np\n",
    "import pickle"
   ]
  },
  {
   "cell_type": "code",
   "execution_count": 2,
   "metadata": {},
   "outputs": [],
   "source": [
    "data_dir = abspath(join(getcwd(), '../../'))"
   ]
  },
  {
   "cell_type": "code",
   "execution_count": 27,
   "metadata": {},
   "outputs": [],
   "source": [
    "## set the matplotlib params\n",
    "mpl.rcParams['xtick.major.size'] = 14\n",
    "mpl.rcParams['ytick.major.size'] = 14\n",
    "mpl.rcParams['xtick.major.width'] = 2\n",
    "mpl.rcParams['ytick.major.width'] = 2\n",
    "mpl.rcParams['ytick.minor.width'] = 0\n",
    "mpl.rcParams['xtick.direction'] = 'inout'\n",
    "mpl.rcParams['ytick.direction'] = 'inout'\n",
    "mpl.rcParams['axes.linewidth'] = 2\n",
    "mpl.rcParams['axes.spines.right'] = False\n",
    "mpl.rcParams['axes.spines.top'] = False\n",
    "\n",
    "# set plotting params\n",
    "s, f = 5, 2\n",
    "models = ['V1', 'classical', 'incompatible']\n",
    "colors = {'V1': '#2c7fb8', 'classical': '#d95f02', 'incompatible': '#91cf60'}\n",
    "h, lr, n_epochs = 1000, 0.1, 3001"
   ]
  },
  {
   "cell_type": "markdown",
   "metadata": {},
   "source": [
    "### Load saved results from initializing networks"
   ]
  },
  {
   "cell_type": "code",
   "execution_count": 28,
   "metadata": {},
   "outputs": [],
   "source": [
    "load_dir = data_dir + '/models/results/'\n",
    "\n",
    "# load mnist results\n",
    "with open(load_dir + '/initialize_mnist/clf_s=%0.2f_f=%0.2f_GD_torch.pickle' % (s, f), 'rb') as handle:\n",
    "    mnist_clf = pickle.load(handle)\n",
    "    \n",
    "# load kmnist results\n",
    "with open(load_dir + '/initialize_kmnist/clf_s=%0.2f_f=%0.2f_GD_torch.pickle' % (s, f), 'rb') as handle:\n",
    "    kmnist_clf = pickle.load(handle)"
   ]
  },
  {
   "cell_type": "markdown",
   "metadata": {},
   "source": [
    "## Plot MNIST results"
   ]
  },
  {
   "cell_type": "markdown",
   "metadata": {},
   "source": [
    "### train loss"
   ]
  },
  {
   "cell_type": "code",
   "execution_count": 29,
   "metadata": {},
   "outputs": [
    {
     "name": "stdout",
     "output_type": "stream",
     "text": [
      "V1, 0.0705\n",
      "classical, 0.1075\n",
      "incompatible, 0.1234\n"
     ]
    },
    {
     "data": {
      "text/plain": [
       "(-0.06, 1.5)"
      ]
     },
     "execution_count": 29,
     "metadata": {},
     "output_type": "execute_result"
    },
    {
     "data": {
      "image/png": "[encoded data removed]",
      "text/plain": [
       "<Figure size 540x360 with 1 Axes>"
      ]
     },
     "metadata": {
      "needs_background": "light"
     },
     "output_type": "display_data"
    }
   ],
   "source": [
    "fig = plt.figure(figsize=(7.5, 5))\n",
    "ax = fig.add_subplot(111)\n",
    "for m in models:\n",
    "    avg_loss = mnist_clf[m]['train_loss'][h][lr]['mean']\n",
    "    std_err = mnist_clf[m]['train_loss'][h][lr]['std']\n",
    "    plt.plot(np.arange(n_epochs), avg_loss, label=m, lw=5, c=colors[m])\n",
    "    plt.fill_between(np.arange(n_epochs), avg_loss - std_err, avg_loss + std_err, alpha=0.2)\n",
    "    print('%s, %0.4f' % (m, avg_loss[-1]))\n",
    "    \n",
    "plt.yticks(np.arange(0, 10, 0.5))\n",
    "plt.xticks(np.arange(0, 3001, 1000))\n",
    "ax.set_xticklabels([])\n",
    "ax.set_yticklabels([])\n",
    "plt.xlim([-60, 3001])\n",
    "plt.ylim([-0.06, 1.5])\n",
    "# plt.savefig(data_dir + '/reports/figures/paper_figs/figure_8/init_GD_mnist_loss.pdf', \n",
    "#             dpi=300, transparent=True, \n",
    "#             bbox_inches = 'tight', pad_inches = 0)"
   ]
  },
  {
   "cell_type": "markdown",
   "metadata": {},
   "source": [
    "### test error"
   ]
  },
  {
   "cell_type": "code",
   "execution_count": 30,
   "metadata": {},
   "outputs": [
    {
     "name": "stdout",
     "output_type": "stream",
     "text": [
      "V1, 0.0225\n",
      "classical, 0.0347\n",
      "incompatible, 0.0373\n"
     ]
    },
    {
     "data": {
      "text/plain": [
       "(-0.02, 0.5)"
      ]
     },
     "execution_count": 30,
     "metadata": {},
     "output_type": "execute_result"
    },
    {
     "data": {
      "image/png": "[encoded data removed]",
      "text/plain": [
       "<Figure size 540x360 with 1 Axes>"
      ]
     },
     "metadata": {
      "needs_background": "light"
     },
     "output_type": "display_data"
    }
   ],
   "source": [
    "fig = plt.figure(figsize=(7.5, 5))\n",
    "ax = fig.add_subplot(111)\n",
    "for m in models:\n",
    "    avg_err = 1 - mnist_clf[m]['test_accuracy'][h][lr]['mean']\n",
    "    std_err = mnist_clf[m]['test_accuracy'][h][lr]['std']\n",
    "    plt.plot(np.arange(n_epochs), avg_err, label=m, lw=5, c=colors[m])\n",
    "    plt.fill_between(np.arange(n_epochs), avg_err - std_err, avg_err + std_err, alpha=0.2)\n",
    "    print('%s, %0.4f' % (m, avg_loss[-1]))\n",
    "    \n",
    "plt.yticks(np.arange(0, 1.01, 0.25))\n",
    "plt.xticks(np.arange(0, 3001, 1000))\n",
    "ax.set_xticklabels([])\n",
    "ax.set_yticklabels([])\n",
    "plt.xlim([-70, 3000])\n",
    "plt.ylim([-0.02, 0.5])\n",
    "# plt.savefig(data_dir + '/reports/figures/paper_figs/figure_8/init_GD_mnist_loss.pdf', \n",
    "#             dpi=300, transparent=True, \n",
    "#             bbox_inches = 'tight', pad_inches = 0)"
   ]
  },
  {
   "cell_type": "markdown",
   "metadata": {},
   "source": [
    "## Plot KMNIST results"
   ]
  },
  {
   "cell_type": "markdown",
   "metadata": {},
   "source": [
    "### train loss"
   ]
  },
  {
   "cell_type": "code",
   "execution_count": 31,
   "metadata": {},
   "outputs": [
    {
     "name": "stdout",
     "output_type": "stream",
     "text": [
      "V1, 0.0989\n",
      "classical, 0.1441\n",
      "incompatible, 0.1690\n"
     ]
    },
    {
     "data": {
      "text/plain": [
       "(-0.06, 1.5)"
      ]
     },
     "execution_count": 31,
     "metadata": {},
     "output_type": "execute_result"
    },
    {
     "data": {
      "image/png": "[encoded data removed]",
      "text/plain": [
       "<Figure size 540x360 with 1 Axes>"
      ]
     },
     "metadata": {
      "needs_background": "light"
     },
     "output_type": "display_data"
    }
   ],
   "source": [
    "fig = plt.figure(figsize=(7.5, 5))\n",
    "ax = fig.add_subplot(111)\n",
    "for m in models:\n",
    "    avg_loss = kmnist_clf[m]['train_loss'][h][lr]['mean']\n",
    "    std_err = kmnist_clf[m]['train_loss'][h][lr]['std']\n",
    "    plt.plot(np.arange(n_epochs), avg_loss, label=m, lw=5, c=colors[m])\n",
    "    plt.fill_between(np.arange(n_epochs), avg_loss - std_err, avg_loss + std_err, alpha=0.2)\n",
    "    print('%s, %0.4f' % (m, avg_loss[-1]))\n",
    "    \n",
    "plt.yticks(np.arange(0, 10, 0.5))\n",
    "plt.xticks(np.arange(0, 3001, 1000))\n",
    "ax.set_xticklabels([])\n",
    "ax.set_yticklabels([])\n",
    "plt.xlim([-60, 3001])\n",
    "plt.ylim([-0.06, 1.5])\n",
    "# plt.savefig(data_dir + '/reports/figures/paper_figs/figure_8/init_GD_kmnist_loss.pdf', \n",
    "#             dpi=300, transparent=True, \n",
    "#             bbox_inches = 'tight', pad_inches = 0)"
   ]
  },
  {
   "cell_type": "markdown",
   "metadata": {},
   "source": [
    "### test error"
   ]
  },
  {
   "cell_type": "code",
   "execution_count": 32,
   "metadata": {},
   "outputs": [
    {
     "name": "stdout",
     "output_type": "stream",
     "text": [
      "V1, 0.0995\n",
      "classical, 0.1345\n",
      "incompatible, 0.1448\n"
     ]
    },
    {
     "data": {
      "text/plain": [
       "(-0.02, 0.5)"
      ]
     },
     "execution_count": 32,
     "metadata": {},
     "output_type": "execute_result"
    },
    {
     "data": {
      "image/png": "[encoded data removed]",
      "text/plain": [
       "<Figure size 540x360 with 1 Axes>"
      ]
     },
     "metadata": {
      "needs_background": "light"
     },
     "output_type": "display_data"
    }
   ],
   "source": [
    "fig = plt.figure(figsize=(7.5, 5))\n",
    "ax = fig.add_subplot(111)\n",
    "for m in models:\n",
    "    avg_err = 1 - kmnist_clf[m]['test_accuracy'][h][lr]['mean']\n",
    "    std_err = kmnist_clf[m]['test_accuracy'][h][lr]['std']\n",
    "    plt.plot(np.arange(n_epochs), avg_err, label=m, lw=5, c=colors[m])\n",
    "    plt.fill_between(np.arange(n_epochs), avg_err - std_err, avg_err + std_err, alpha=0.2)\n",
    "    print('%s, %0.4f' % (m, avg_loss[-1]))\n",
    "    \n",
    "plt.yticks(np.arange(0, 1.01, 0.25))\n",
    "plt.xticks(np.arange(0, 3001, 1000))\n",
    "ax.set_xticklabels([])\n",
    "ax.set_yticklabels([])\n",
    "plt.xlim([-70, 3000])\n",
    "plt.ylim([-0.02, 0.5])\n",
    "# plt.savefig(data_dir + '/reports/figures/paper_figs/figure_8/init_GD_kmnist_test_err.pdf', \n",
    "#             dpi=300, transparent=True, \n",
    "#             bbox_inches = 'tight', pad_inches = 0)"
   ]
  },
  {
   "cell_type": "code",
   "execution_count": null,
   "metadata": {},
   "outputs": [],
   "source": []
  }
 ],
 "metadata": {
  "kernelspec": {
   "display_name": "Python 3",
   "language": "python",
   "name": "python3"
  },
  "language_info": {
   "codemirror_mode": {
    "name": "ipython",
    "version": 3
   },
   "file_extension": ".py",
   "mimetype": "text/x-python",
   "name": "python",
   "nbconvert_exporter": "python",
   "pygments_lexer": "ipython3",
   "version": "3.8.10"
  }
 },
 "nbformat": 4,
 "nbformat_minor": 5
}