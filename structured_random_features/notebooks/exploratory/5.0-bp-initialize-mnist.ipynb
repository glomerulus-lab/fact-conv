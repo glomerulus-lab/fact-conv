{
 "cells": [
  {
   "cell_type": "code",
   "execution_count": 10,
   "id": "70b6464b-a6f7-4cd9-b750-dbd45669a68a",
   "metadata": {},
   "outputs": [],
   "source": [
    "from os import getcwd\n",
    "from os.path import join, abspath\n",
    "\n",
    "from copy import deepcopy\n",
    "import numpy as np\n",
    "import pickle\n",
    "import matplotlib.pyplot as plt\n",
    "import torch\n",
    "import torch.nn as nn\n",
    "import torch.optim as optim\n",
    "import torch.nn.functional as F\n",
    "\n",
    "from src.data.load_dataset import load_mnist, load_kmnist\n",
    "from src.models.networks import V1_mnist_RFNet, classical_RFNet, V1_mnist_RFNet_ffc\n",
    "from src.models.utils import train, test"
   ]
  },
  {
   "cell_type": "code",
   "execution_count": 3,
   "id": "ea7123c9-9b6f-42d5-b5dd-4289e990b6bd",
   "metadata": {},
   "outputs": [],
   "source": [
    "data_dir = abspath(join(getcwd(), '../../'))\n",
    "device = torch.device('cuda' if torch.cuda.is_available else 'cpu')"
   ]
  },
  {
   "cell_type": "code",
   "execution_count": 4,
   "id": "71b40a95-a2fc-4903-b478-76983a9f3956",
   "metadata": {},
   "outputs": [],
   "source": [
    "# load data\n",
    "train_batch_size, train_percentage = 60000, 0.999\n",
    "train_loader, val_loader, test_loader = load_kmnist(train_batch_size, train_percentage)\n",
    "\n",
    "# training params\n",
    "hidden_size = 1000\n",
    "num_epochs = 30\n",
    "num_trials = 5\n",
    "log_interval = 1\n",
    "lr = 1E-1\n",
    "loss_fn = F.cross_entropy\n",
    "\n",
    "compatible = {'s': 5, 'f':2}\n",
    "incompatible = {'s': 10, 'f':18}"
   ]
  },
  {
   "cell_type": "markdown",
   "id": "b89b7cb5-7279-462d-8ece-3b4ccc4b90fc",
   "metadata": {},
   "source": [
    "## V1 RFNet"
   ]
  },
  {
   "cell_type": "code",
   "execution_count": null,
   "id": "a43539e8-57b6-4a43-9ec5-0075cb926171",
   "metadata": {},
   "outputs": [],
   "source": [
    "# declare model\n",
    "s, f = compatible['s'], compatible['f']\n",
    "scale = 2 / 784\n",
    "model = V1_mnist_RFNet(hidden_size, s, f, center=None, scale=scale, seed=10).to(device)\n",
    "model.v1_layer.weight.requires_grad = True\n",
    "\n",
    "# declare optimizer and learning rate\n",
    "optimizer = optim.SGD(model.parameters(), lr=lr)\n",
    "\n",
    "# train and test\n",
    "V1_train_loss = np.array([])\n",
    "V1_test_error = np.zeros(num_epochs)\n",
    "for epoch in range(num_epochs):\n",
    "    loss = train(log_interval, device, model, train_loader, optimizer, epoch, loss_fn, verbose=True)\n",
    "    test_err = test(model, device, test_loader, verbose=True)\n",
    "    \n",
    "    V1_train_loss = np.append(V1_train_loss, loss)\n",
    "    V1_test_error[epoch] = test_err"
   ]
  },
  {
   "cell_type": "markdown",
   "id": "c217ed20-333b-45dc-b3e1-c66430df5ed1",
   "metadata": {},
   "source": [
    "## Classical Net"
   ]
  },
  {
   "cell_type": "code",
   "execution_count": null,
   "id": "3fc6363f-3177-4b5f-bd9c-70c669b43475",
   "metadata": {},
   "outputs": [],
   "source": [
    "## define the model\n",
    "inp_size = (1, 28, 28)\n",
    "scale = 2 / 784\n",
    "model = classical_RFNet(inp_size, hidden_size, scale=scale).to(device)\n",
    "model.RF_layer.weight.requires_grad = True\n",
    "\n",
    "# define the optimizer\n",
    "optimizer = optim.SGD(model.parameters(), lr=lr)\n",
    "scheduler = optim.lr_scheduler.StepLR(optimizer, step_size=step_size, gamma=gamma)\n",
    "\n",
    "# train and test\n",
    "classical_train_loss = np.array([])\n",
    "classical_test_error = np.zeros(num_epochs)\n",
    "for epoch in range(num_epochs):\n",
    "    loss = train(log_interval, device, model, train_loader, optimizer, epoch, loss_fn, verbose=True)\n",
    "    test_err = test(model, device, test_loader, verbose=True)\n",
    "    \n",
    "    classical_train_loss = np.append(classical_train_loss, loss)\n",
    "    classical_test_error[epoch] = test_err"
   ]
  },
  {
   "cell_type": "code",
   "execution_count": null,
   "id": "293b6343-5614-4572-9c05-34de608374a1",
   "metadata": {},
   "outputs": [],
   "source": [
    "# plot the losses\n",
    "fig = plt.figure(figsize=(12, 6))\n",
    "\n",
    "num_batches = len(train_loader)\n",
    "t = np.arange(len(train_loader) * num_epochs)\n",
    "ax = fig.add_subplot(121)\n",
    "plt.semilogy(t[::num_batches], V1_train_loss[::num_batches], '-', c='#2c7fb8')\n",
    "plt.semilogy(t[::num_batches], classical_train_loss[::num_batches], '-', c='#d95f02')\n",
    "plt.xlabel('Iterations')\n",
    "plt.ylabel('Train loss')\n",
    "\n",
    "t = np.arange(num_epochs)\n",
    "ax = fig.add_subplot(122)\n",
    "plt.plot(t, 100 - V1_test_error, '-o', c='#2c7fb8')\n",
    "plt.plot(t, 100 - classical_test_error, '-o', c='#d95f02')\n",
    "plt.xlabel('Epochs')\n",
    "plt.ylabel('Test error')"
   ]
  },
  {
   "cell_type": "markdown",
   "id": "35d33bef-599b-4abb-bdd1-539416dc4e77",
   "metadata": {},
   "source": [
    "### V1 RFNet with feedforward layers"
   ]
  },
  {
   "cell_type": "code",
   "execution_count": 198,
   "id": "3fc8c16c-eff7-4495-ac68-86f722ecbe98",
   "metadata": {},
   "outputs": [],
   "source": [
    "# extract tensors from dataloader\n",
    "train_batch_size, train_percentage = 1000, 0.999\n",
    "train_loader, val_loader, test_loader = load_mnist(train_batch_size, train_percentage)\n",
    "train_set, test_set = train_loader.dataset.dataset, test_loader.dataset\n",
    "train, train_labels = train_set.data.float().to(device), train_set.targets.to(device)\n",
    "test, test_labels = test_set.data.float().to(device), test_set.targets.float().to(device)\n",
    "\n",
    "# mean subtract and convert to range of 0 and 1\n",
    "X_train = (train - train.mean())/ train.std()\n",
    "X_test = (test - test.mean())/ test.std()\n",
    "\n",
    "# reshape dataset\n",
    "X_train = X_train.reshape(60000, 1, 28, 28)\n",
    "X_test = X_test.reshape(10000, 1, 28, 28)\n",
    "\n",
    "# params\n",
    "hidden_size = 1000\n",
    "num_epochs = 10000\n",
    "num_trials = 5\n",
    "log_interval = 1\n",
    "lr = 1E-1\n",
    "loss_fn = F.cross_entropy"
   ]
  },
  {
   "cell_type": "code",
   "execution_count": 209,
   "id": "b1b3c517-6858-47c8-b233-d9ecd3b0e389",
   "metadata": {},
   "outputs": [],
   "source": [
    "# declare model\n",
    "s, f = compatible['s'], compatible['f']\n",
    "scale = 2 / 784\n",
    "model = V1_mnist_RFNet(hidden_size, s, f, center=None, scale=scale, seed=None).to(device)\n",
    "model.v1_layer.weight.requires_grad = True\n",
    "\n",
    "# declare optimizer and learning rate\n",
    "optimizer = optim.SGD(model.parameters(), lr=lr)\n",
    "\n",
    "loss_list = []\n",
    "test_accuracy = []\n",
    "for i in range(num_epochs):\n",
    "    optimizer.zero_grad()\n",
    "    output = model(X_train.float())\n",
    "    loss = loss_fn(output, y_train)\n",
    "    loss.backward()\n",
    "    optimizer.step()\n",
    "    loss_list.append(loss.item())\n",
    "#     print(loss)"
   ]
  },
  {
   "cell_type": "code",
   "execution_count": 211,
   "id": "e4a6dd9a-57ef-4192-a6bb-bd889cdc1bb0",
   "metadata": {},
   "outputs": [
    {
     "data": {
      "text/plain": [
       "torch.Size([60000, 10])"
      ]
     },
     "execution_count": 211,
     "metadata": {},
     "output_type": "execute_result"
    }
   ],
   "source": [
    "output.shape"
   ]
  },
  {
   "cell_type": "code",
   "execution_count": 200,
   "id": "f6f37160-83cc-4042-94f5-adf05b4cd53f",
   "metadata": {},
   "outputs": [],
   "source": [
    "pred = torch.argmax(model(X_test), axis=1)"
   ]
  },
  {
   "cell_type": "code",
   "execution_count": 201,
   "id": "6479923f-4b84-4cd9-bee4-d823b3d9fc97",
   "metadata": {},
   "outputs": [
    {
     "data": {
      "text/plain": [
       "tensor(0.9533, device='cuda:0')"
      ]
     },
     "execution_count": 201,
     "metadata": {},
     "output_type": "execute_result"
    }
   ],
   "source": [
    "torch.sum(pred == y_test) / 10000"
   ]
  },
  {
   "cell_type": "code",
   "execution_count": 203,
   "id": "5ca713e6-47aa-43bc-9ec7-950ea68bda60",
   "metadata": {},
   "outputs": [
    {
     "data": {
      "text/plain": [
       "(0.0, 2.0)"
      ]
     },
     "execution_count": 203,
     "metadata": {},
     "output_type": "execute_result"
    },
    {
     "data": {
      "image/png": "[encoded data removed]",
      "text/plain": [
       "<Figure size 432x288 with 1 Axes>"
      ]
     },
     "metadata": {
      "needs_background": "light"
     },
     "output_type": "display_data"
    }
   ],
   "source": [
    "plt.plot(loss_list)\n",
    "plt.ylim(0, 2)"
   ]
  },
  {
   "cell_type": "code",
   "execution_count": null,
   "id": "88952e83-8842-4710-b4ef-ec07b1a5c2b1",
   "metadata": {},
   "outputs": [],
   "source": []
  }
 ],
 "metadata": {
  "kernelspec": {
   "display_name": "Python 3",
   "language": "python",
   "name": "python3"
  },
  "language_info": {
   "codemirror_mode": {
    "name": "ipython",
    "version": 3
   },
   "file_extension": ".py",
   "mimetype": "text/x-python",
   "name": "python",
   "nbconvert_exporter": "python",
   "pygments_lexer": "ipython3",
   "version": "3.8.10"
  }
 },
 "nbformat": 4,
 "nbformat_minor": 5
}
