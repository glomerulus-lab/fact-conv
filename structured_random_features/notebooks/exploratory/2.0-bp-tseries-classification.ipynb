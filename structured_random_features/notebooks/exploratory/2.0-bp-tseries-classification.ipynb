{
 "cells": [
  {
   "cell_type": "code",
   "execution_count": 1,
   "id": "87c31041-9fb8-4f08-bb33-ed60067baee1",
   "metadata": {},
   "outputs": [],
   "source": [
    "import matplotlib.pyplot as plt\n",
    "import numpy as np\n",
    "import torch\n",
    "import torch.nn as nn\n",
    "import torch.optim as optim\n",
    "\n",
    "from src.data.load_dataset import generate_frequency_detection, generate_frequency_XOR\n",
    "from src.data.load_dataset import load_frequency_detection, load_frequency_XOR\n",
    "from src.models.networks import sensilla_RFNet, classical_RFNet\n",
    "from src.models.utils import train, test"
   ]
  },
  {
   "cell_type": "code",
   "execution_count": 2,
   "id": "3943d124-d4fa-4923-9ccb-138358ad1dfc",
   "metadata": {},
   "outputs": [],
   "source": [
    "device = torch.device('cuda' if torch.cuda.is_available() else \"cpu\")"
   ]
  },
  {
   "cell_type": "markdown",
   "id": "450161ab-eb26-4529-9838-f7b364babcec",
   "metadata": {},
   "source": [
    "### Frequency detection"
   ]
  },
  {
   "cell_type": "code",
   "execution_count": 128,
   "id": "b400511e-aec9-4243-a1a1-332a0744ff96",
   "metadata": {},
   "outputs": [],
   "source": [
    "## params\n",
    "num_samples, sampling_rate, duration, freq, snr, seed = 7000, 1500, 0.1, 5, 0.8, None\n",
    "data, labels = generate_frequency_detection(num_samples, sampling_rate, freq, duration, snr, seed)\n",
    "\n",
    "# dataloader\n",
    "train_batch_size, train_percentage = 2048, 0.8\n",
    "train_loader, val_loader, test_loader = load_frequency_detection(num_samples, sampling_rate,\n",
    "                                                                freq, duration, snr, \n",
    "                                                                train_batch_size, train_percentage, seed=2)"
   ]
  },
  {
   "cell_type": "code",
   "execution_count": 129,
   "id": "eff72c48-75fb-4c07-86e8-d27f1e8db5da",
   "metadata": {},
   "outputs": [
    {
     "name": "stdout",
     "output_type": "stream",
     "text": [
      "\n",
      "Test set: Average loss: 0.275880. Accuracy: 9927/10000 (99.27%)\n",
      "\n"
     ]
    }
   ],
   "source": [
    "# define a network, hyperparams, optimizer, loss_function\n",
    "inp_size, hidden_size = int(sampling_rate * duration), 250\n",
    "lowcut, highcut, decay_coef, seed = 2, 8, 6, 2\n",
    "model = sensilla_RFNet(inp_size, hidden_size, lowcut, highcut, decay_coef=decay_coef, seed=seed).to(device)\n",
    "\n",
    "# optimizer\n",
    "lr = 0.1\n",
    "optimizer = optim.SGD(model.parameters(), lr=lr)\n",
    "\n",
    "# train\n",
    "epochs = 20\n",
    "log_interval = 100\n",
    "for epoch in range(1, epochs + 1):\n",
    "    _ = train(log_interval, device, model, train_loader, optimizer, epoch, verbose=False)\n",
    "#     val_accuracy = test(model, device, val_loader)\n",
    "# calculate and print test accuracy\n",
    "test_accuracy = test(model, device, test_loader)"
   ]
  },
  {
   "cell_type": "code",
   "execution_count": 130,
   "id": "c60abf98-cada-4ba8-8eb5-521a0e75ddbe",
   "metadata": {},
   "outputs": [
    {
     "name": "stdout",
     "output_type": "stream",
     "text": [
      "\n",
      "Test set: Average loss: 0.301382. Accuracy: 9652/10000 (96.52%)\n",
      "\n"
     ]
    }
   ],
   "source": [
    "# define classical network\n",
    "inp_size, hidden_size = int(sampling_rate * duration), 250\n",
    "model = classical_RFNet(inp_size, hidden_size, seed=10).to(device)\n",
    "\n",
    "# optimizer\n",
    "lr = 0.1\n",
    "optimizer = optim.SGD(model.parameters(), lr=lr)\n",
    "\n",
    "# train\n",
    "epochs = 20\n",
    "log_interval = 100\n",
    "for epoch in range(1, epochs + 1):\n",
    "    _ = train(log_interval, device, model, train_loader, optimizer, epoch, verbose=False)\n",
    "#     val_accuracy = test(model, device, val_loader)\n",
    "# calculate and print test accuracy\n",
    "test_accuracy = test(model, device, test_loader)"
   ]
  },
  {
   "cell_type": "markdown",
   "id": "665f1a3e-6675-472c-b54a-633818904fac",
   "metadata": {},
   "source": [
    "#### Frequency XOR"
   ]
  },
  {
   "cell_type": "code",
   "execution_count": 137,
   "id": "66f5e061-d176-4160-84ee-af3bbb90685a",
   "metadata": {},
   "outputs": [],
   "source": [
    "## params\n",
    "num_samples, sampling_rate, duration, freq1, freq2, snr, seed = 7000, 1500, 0.1, 5, 8, 0.8, 5\n",
    "data, labels = generate_frequency_XOR(num_samples, sampling_rate, freq1, freq2, duration,\n",
    "                                     snr, seed, shuffle=False)\n",
    "\n",
    "batch_size, percentage = 2048, 0.8\n",
    "train_loader, val_loader, test_loader = load_frequency_XOR(num_samples, sampling_rate, freq1, freq2,\n",
    "                                                           duration, snr, \n",
    "                                                           batch_size, percentage, seed)"
   ]
  },
  {
   "cell_type": "code",
   "execution_count": 150,
   "id": "bb878f75-c116-470e-9323-8ea42b15bd54",
   "metadata": {},
   "outputs": [
    {
     "name": "stdout",
     "output_type": "stream",
     "text": [
      "\n",
      "Test set: Average loss: 0.662010. Accuracy: 9474/10000 (94.74%)\n",
      "\n"
     ]
    }
   ],
   "source": [
    "## V1 network\n",
    "inp_size, hidden_size = int(sampling_rate * duration), 250\n",
    "lowcut, highcut, decay_coef, seed = 3, 13, 6, 2\n",
    "model = sensilla_RFNet(inp_size, hidden_size, lowcut, highcut, decay_coef=decay_coef, seed=seed).to(device)\n",
    "\n",
    "# optimizer\n",
    "lr = 0.01\n",
    "optimizer = optim.SGD(model.parameters(), lr=lr)\n",
    "\n",
    "# train\n",
    "epochs = 30\n",
    "log_interval = 100\n",
    "for epoch in range(1, epochs + 1):\n",
    "    _ = train(log_interval, device, model, train_loader, optimizer, epoch, verbose=False)\n",
    "#     val_accuracy = test(model, device, val_loader)\n",
    "# calculate and print test accuracy\n",
    "test_accuracy = test(model, device, test_loader)"
   ]
  },
  {
   "cell_type": "code",
   "execution_count": 155,
   "id": "782076d4-b17b-4447-a6af-d88f03f85cee",
   "metadata": {},
   "outputs": [
    {
     "name": "stdout",
     "output_type": "stream",
     "text": [
      "\n",
      "Test set: Average loss: 0.504902. Accuracy: 8350/10000 (83.50%)\n",
      "\n"
     ]
    }
   ],
   "source": [
    "## classical network\n",
    "inp_size, hidden_size = int(sampling_rate * duration), 250\n",
    "model = classical_RFNet(inp_size, hidden_size, seed=10).to(device)\n",
    "\n",
    "# optimizer\n",
    "lr = 0.1\n",
    "optimizer = optim.SGD(model.parameters(), lr=lr)\n",
    "\n",
    "# train\n",
    "epochs = 30\n",
    "log_interval = 100\n",
    "for epoch in range(1, epochs + 1):\n",
    "    _ = train(log_interval, device, model, train_loader, optimizer, epoch, verbose=False)\n",
    "#     val_accuracy = test(model, device, val_loader)\n",
    "# calculate and print test accuracy\n",
    "test_accuracy = test(model, device, test_loader)"
   ]
  },
  {
   "cell_type": "code",
   "execution_count": null,
   "id": "5d56b3ff-41fc-46f3-a5fb-b0c281fa538c",
   "metadata": {},
   "outputs": [],
   "source": []
  },
  {
   "cell_type": "code",
   "execution_count": null,
   "id": "cb46daf3-04b2-4ca2-9c27-810c511c4107",
   "metadata": {},
   "outputs": [],
   "source": []
  }
 ],
 "metadata": {
  "kernelspec": {
   "display_name": "Python 3",
   "language": "python",
   "name": "python3"
  },
  "language_info": {
   "codemirror_mode": {
    "name": "ipython",
    "version": 3
   },
   "file_extension": ".py",
   "mimetype": "text/x-python",
   "name": "python",
   "nbconvert_exporter": "python",
   "pygments_lexer": "ipython3",
   "version": "3.8.10"
  }
 },
 "nbformat": 4,
 "nbformat_minor": 5
}
