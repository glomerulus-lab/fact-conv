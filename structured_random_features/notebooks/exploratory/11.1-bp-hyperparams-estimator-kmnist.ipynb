{
 "cells": [
  {
   "cell_type": "code",
   "execution_count": 1,
   "id": "33b3d3ee-93a3-480b-a902-3776dc1883c6",
   "metadata": {},
   "outputs": [],
   "source": [
    "from os import getcwd\n",
    "from os.path import abspath, join\n",
    "\n",
    "from copy import deepcopy\n",
    "from joblib import parallel_backend\n",
    "import matplotlib.pyplot as plt\n",
    "import numpy as np\n",
    "import pickle\n",
    "from sklearn.model_selection import train_test_split, cross_val_score\n",
    "from sklearn.svm import LinearSVC\n",
    "from tqdm import tqdm\n",
    "\n",
    "from src.data.load_dataset import load_kmnist\n",
    "from src.models.estimator import RFClassifier, relu\n",
    "from src.models.weights import V1_weights, classical_weights"
   ]
  },
  {
   "cell_type": "code",
   "execution_count": 2,
   "id": "819be057-e855-4208-aa46-01c0385a3d5c",
   "metadata": {},
   "outputs": [],
   "source": [
    "data_dir = abspath(join(getcwd(), '../../'))"
   ]
  },
  {
   "cell_type": "code",
   "execution_count": 3,
   "id": "ed3358ea-517f-4527-af90-14fd77fb3d1f",
   "metadata": {},
   "outputs": [],
   "source": [
    "# load dataset\n",
    "train_loader, val_loader, test_loader = load_kmnist()\n",
    "train, test = train_loader.dataset.dataset, test_loader.dataset\n",
    "train, train_labels = train.data.numpy(), train.targets.numpy()\n",
    "X_test, y_test = test.data.numpy(), test.targets.numpy()\n",
    "\n",
    "X_train, X_val, y_train, y_val = train_test_split(train, train_labels, train_size=0.999, stratify=train_labels)\n",
    "\n",
    "# params\n",
    "h = 1000\n",
    "bias = 0\n",
    "nonlinearity = relu\n",
    "scale = 1\n",
    "center = None\n",
    "clf = LinearSVC(tol=1e-4, max_iter=1000)\n",
    "n_jobs=3\n",
    "cv = 3"
   ]
  },
  {
   "cell_type": "code",
   "execution_count": 4,
   "id": "6a6b6112-03e7-47a2-be0f-c6702683b6e5",
   "metadata": {},
   "outputs": [],
   "source": [
    "grid = np.arange(1, 20, 1)\n",
    "size, spatial_freq = np.meshgrid(grid, grid)\n",
    "params = np.array(list(zip(size.flatten(), spatial_freq.flatten())))"
   ]
  },
  {
   "cell_type": "code",
   "execution_count": null,
   "id": "df692c6c-b2a1-4443-b0f1-4ebdc20e196f",
   "metadata": {},
   "outputs": [
    {
     "name": "stderr",
     "output_type": "stream",
     "text": [
      "  4%|▎         | 13/361 [39:59<17:47:19, 184.02s/it]"
     ]
    }
   ],
   "source": [
    "%%time\n",
    "accuracy = np.zeros((len(params), cv))\n",
    "for i, [s, f] in enumerate(tqdm(params)):\n",
    "    kwargs = {'size':s, 'spatial_freq': f, 'center': None, 'scale': scale}\n",
    "    v1_clf = RFClassifier(h, V1_weights, bias, nonlinearity, deepcopy(clf), kwargs)\n",
    "    scores = cross_val_score(v1_clf, X_train, y_train, cv=cv, n_jobs=n_jobs, verbose=0)\n",
    "    accuracy[i] = scores\n",
    "    \n",
    "    # save results iteratively\n",
    "    param_study = {'size': params[:, 0], 'spatial_freq': params[:, 1],  'scores': accuracy}\n",
    "    with open(data_dir + '/models/results/kmnist_clf/kmnist_param_study_estimator.pickle', 'wb') as file:\n",
    "        pickle.dump(param_study, file)"
   ]
  },
  {
   "cell_type": "code",
   "execution_count": 9,
   "id": "8294b9bd-ffde-4950-91db-d29be48bdfa3",
   "metadata": {},
   "outputs": [
    {
     "name": "stdout",
     "output_type": "stream",
     "text": [
      "9 16 0.67334000667334\n"
     ]
    },
    {
     "data": {
      "image/png": "[encoded data removed]",
      "text/plain": [
       "<Figure size 432x288 with 2 Axes>"
      ]
     },
     "metadata": {
      "needs_background": "light"
     },
     "output_type": "display_data"
    }
   ],
   "source": [
    "with open(data_dir + '/models/results/kmnist_clf/kmnist_param_study_estimator.pickle', 'rb') as file:\n",
    "    results = pickle.load(file)\n",
    "    \n",
    "grid = np.arange(1, 20, 1)\n",
    "mean = np.mean(results['scores'], axis=1)\n",
    "fig = plt.figure()\n",
    "ax = fig.add_subplot(111)\n",
    "plt.imshow(mean.reshape(19, 19), cmap='RdBu_r')\n",
    "plt.xticks(grid - 1)\n",
    "plt.yticks(grid - 1)\n",
    "ax.set_xticklabels(grid)\n",
    "ax.set_yticklabels(grid)\n",
    "# plt.imshow(results['scores'])\n",
    "plt.colorbar()\n",
    "\n",
    "# print the largest param\n",
    "idx = np.argmin(mean)\n",
    "print(results['size'][idx], results['spatial_freq'][idx], mean[idx])"
   ]
  },
  {
   "cell_type": "code",
   "execution_count": null,
   "id": "131edd8a-40fc-4e40-951b-32860e43d46b",
   "metadata": {},
   "outputs": [],
   "source": []
  }
 ],
 "metadata": {
  "kernelspec": {
   "display_name": "Python 3",
   "language": "python",
   "name": "python3"
  },
  "language_info": {
   "codemirror_mode": {
    "name": "ipython",
    "version": 3
   },
   "file_extension": ".py",
   "mimetype": "text/x-python",
   "name": "python",
   "nbconvert_exporter": "python",
   "pygments_lexer": "ipython3",
   "version": "3.8.10"
  }
 },
 "nbformat": 4,
 "nbformat_minor": 5
}
