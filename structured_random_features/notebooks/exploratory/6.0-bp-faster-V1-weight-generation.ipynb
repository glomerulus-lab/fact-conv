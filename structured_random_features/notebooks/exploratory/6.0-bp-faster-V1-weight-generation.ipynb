{
 "cells": [
  {
   "cell_type": "code",
   "execution_count": 1,
   "id": "dbdd6181-97f9-4052-bbdf-980bd0bfce59",
   "metadata": {},
   "outputs": [],
   "source": [
    "import numpy as np\n",
    "import matplotlib.pyplot as plt\n",
    "\n",
    "from src.models.weights import V1_weights, V1_covariance_matrix"
   ]
  },
  {
   "cell_type": "code",
   "execution_count": 2,
   "id": "33a16d08-8939-441c-9712-d5efbe489f38",
   "metadata": {},
   "outputs": [
    {
     "data": {
      "text/plain": [
       "<matplotlib.colorbar.Colorbar at 0x7fcd1b847610>"
      ]
     },
     "execution_count": 2,
     "metadata": {},
     "output_type": "execute_result"
    },
    {
     "data": {
      "image/png": "[encoded data removed]",
      "text/plain": [
       "<Figure size 288x288 with 2 Axes>"
      ]
     },
     "metadata": {
      "needs_background": "light"
     },
     "output_type": "display_data"
    }
   ],
   "source": [
    "h = 1000\n",
    "s, f, c = 2.5, 2, (14, 14)\n",
    "dim = (28, 28)\n",
    "\n",
    "# generate weights\n",
    "W = V1_weights(h, dim, s, f, c, seed=20)\n",
    "\n",
    "# plot\n",
    "w = W[3].reshape(dim)\n",
    "fig = plt.figure(figsize=(4, 4))\n",
    "plt.imshow(w, cmap='PuOr')\n",
    "plt.clim(-5, 5)\n",
    "plt.axis('off')\n",
    "plt.colorbar()"
   ]
  },
  {
   "cell_type": "code",
   "execution_count": 3,
   "id": "976964a7-0c92-4cf1-b2e0-25d6c5c19ccc",
   "metadata": {},
   "outputs": [
    {
     "data": {
      "image/png": "[encoded data removed]",
      "text/plain": [
       "<Figure size 432x288 with 1 Axes>"
      ]
     },
     "metadata": {
      "needs_background": "light"
     },
     "output_type": "display_data"
    }
   ],
   "source": [
    "center = np.array([10, 20])\n",
    "x_shift, y_shift = center - np.array(c)\n",
    "w_new = np.roll(w, x_shift, axis=0)\n",
    "w_new = np.roll(w_new, y_shift, axis=1)\n",
    "\n",
    "# shift in the x-direction\n",
    "if x_shift > 0:\n",
    "    w_new[:x_shift, :] = 0\n",
    "elif x_shift < 0:\n",
    "    w_new[x_shift:, :] = 0\n",
    "\n",
    "# shift in y direction\n",
    "if y_shift > 0:\n",
    "    w_new[:, :y_shift] = 0\n",
    "elif y_shift < 0:\n",
    "    w_new[:, y_shift:] = 0\n",
    "\n",
    "fig = plt.figure()\n",
    "plt.imshow(w_new, cmap='PuOr')\n",
    "plt.clim(-5, 5)"
   ]
  },
  {
   "cell_type": "code",
   "execution_count": 4,
   "id": "c1a264a9-6e91-4a8f-8bab-5f5d03be59d3",
   "metadata": {},
   "outputs": [],
   "source": [
    "dim = (28, 28)\n",
    "num_weights = 1000\n",
    "\n",
    "# reshape the weights array\n",
    "c = (int(dim[0]/ 2), int(dim[1]/2))\n",
    "W = V1_weights(num_weights, dim, 2.5, 2, c, seed=20)\n",
    "W = W.reshape(-1, dim[0], dim[1])\n",
    "\n",
    "# generate new centers and shifts\n",
    "centers = np.random.randint((dim[0], dim[1]), size=(num_weights, 2)) \n",
    "shifts = centers - c\n",
    "\n",
    "# new weights\n",
    "W_new = np.zeros_like(W)\n",
    "for i, [x_shift, y_shift] in enumerate(shifts):\n",
    "    W_new[i] = np.roll(W[i], x_shift, axis=0)\n",
    "    W_new[i] = np.roll(W_new[i], y_shift, axis=1)\n",
    "    \n",
    "    if x_shift > 0:\n",
    "        W_new[i, :x_shift, :] = 0\n",
    "    elif x_shift < 0:\n",
    "        W_new[i, x_shift:, :] = 0\n",
    "    if y_shift > 0:\n",
    "        W_new[i, :, :y_shift] = 0\n",
    "    elif y_shift < 0:\n",
    "        W_new[i, :, y_shift:] = 0"
   ]
  },
  {
   "cell_type": "code",
   "execution_count": 5,
   "id": "991ba7d6-a50c-477d-b1df-f710cd99bdcd",
   "metadata": {},
   "outputs": [
    {
     "name": "stderr",
     "output_type": "stream",
     "text": [
      "/home/bpandey/anaconda3/envs/random_features/lib/python3.8/site-packages/matplotlib/text.py:1215: FutureWarning: elementwise comparison failed; returning scalar instead, but in the future will perform elementwise comparison\n",
      "  if s != self._text:\n"
     ]
    },
    {
     "data": {
      "text/plain": [
       "Text(0.5, 1.0, '[11  2]')"
      ]
     },
     "execution_count": 5,
     "metadata": {},
     "output_type": "execute_result"
    },
    {
     "data": {
      "image/png": "[encoded data removed]",
      "text/plain": [
       "<Figure size 576x288 with 2 Axes>"
      ]
     },
     "metadata": {
      "needs_background": "light"
     },
     "output_type": "display_data"
    }
   ],
   "source": [
    "i = np.random.randint(num_weights)\n",
    "fig = plt.figure(figsize=(8, 4))\n",
    "ax = fig.add_subplot(1, 2, 1)\n",
    "plt.imshow(W[i], cmap='PuOr')\n",
    "plt.clim(-5, 5)\n",
    "plt.plot(centers[i][1], centers[i][0], 'ro', markersize=10)\n",
    "\n",
    "ax = fig.add_subplot(1, 2, 2)\n",
    "plt.imshow(W_new[i], cmap='PuOr')\n",
    "plt.clim(-5, 5)\n",
    "plt.plot(centers[i][1], centers[i][0], 'ro', markersize=10)\n",
    "plt.title(centers[i])"
   ]
  },
  {
   "cell_type": "code",
   "execution_count": 6,
   "id": "e2ff3b08-1952-4af2-9792-bcc62e327225",
   "metadata": {},
   "outputs": [],
   "source": [
    "def shift_pad(img, y_shift, x_shift):\n",
    "    '''\n",
    "    Given an image, we shift every pixel by x_shift and y_shift. We zero pad the portion\n",
    "    that ends up outside the original frame. We think of the origin of the image\n",
    "    as its top left. The co-ordinate frame is the matrix kind, where (a, b) means\n",
    "    ath row and bth column.\n",
    "    \n",
    "    Parameters\n",
    "    ----------\n",
    "    img: array-like\n",
    "        image to shift\n",
    "        \n",
    "    y_shift: int\n",
    "        Pixel shift in the vertical direction\n",
    "        \n",
    "    x_shift: int\n",
    "        Pixel shift in the horizontal direction\n",
    "    \n",
    "    Returns\n",
    "    -------\n",
    "    img_shifted: array-like with the same shape as img\n",
    "        Shifted and zero padded image\n",
    "\n",
    "    '''\n",
    "    img_shifted = np.roll(img, x_shift, axis=1)\n",
    "    img_shifted = np.roll(img_shifted, y_shift, axis=0)\n",
    "    \n",
    "    if y_shift > 0:\n",
    "        img_shifted[:y_shift, :] = 0\n",
    "    if y_shift < 0:\n",
    "        img_shifted[y_shift:, :] = 0\n",
    "    if x_shift > 0:\n",
    "        img_shifted[:, :x_shift] = 0\n",
    "    if x_shift < 0:\n",
    "        img_shifted[:, x_shift:] = 0\n",
    "    return img_shifted\n",
    "    \n",
    "\n",
    "def V1_weights(num_weights, dim, size, spatial_freq, center=None, scale=1, seed=None):\n",
    "    \"\"\"\n",
    "    Generate random weights inspired by the tuning properties of the \n",
    "    neurons in Primary Visual Cortex (V1).\n",
    "\n",
    "    If a value is given for the center, all generated weights have the same center\n",
    "    If value is set to None, the centers randomly cover the RF space\n",
    "\n",
    "    Parameters\n",
    "    ----------\n",
    "\n",
    "    num_weights : int\n",
    "        Number of random weights\n",
    "\n",
    "    dim : tuple of shape (2,1)\n",
    "        dim of each random weights\n",
    "    \n",
    "    size : float\n",
    "        Determines the size of the random weights\n",
    "\n",
    "    spatial_freq : float\n",
    "        Determines the spatial frequency of the random weights \n",
    "\n",
    "    center: tuple of shape (2, 1), default = None\n",
    "        Location of the center of the random weights\n",
    "        With default value, the centers uniformly cover the RF space\n",
    "\n",
    "    scale: float, default=1\n",
    "        Normalization factor for Tr norm of cov matrix\n",
    "\n",
    "    seed : int, default=None\n",
    "        Used to set the seed when generating random weights.\n",
    "\n",
    "    Returns\n",
    "    -------\n",
    "\n",
    "    W : array-like of shape (num_weights, dim[0] * dim[1])\n",
    "        Matrix of random weights\n",
    "\n",
    "    \"\"\"\n",
    "    np.random.seed(seed)\n",
    "    if center == None: # centers uniformly cover the visual field\n",
    "        # first generate centered weights\n",
    "        c = (int(dim[0]/ 2), int(dim[1]/2)) # center of the visual field\n",
    "        C = V1_covariance_matrix(dim, size, spatial_freq, c, scale) \n",
    "        W_centered = np.random.multivariate_normal(mean=np.zeros(dim[0] * dim[1]), cov=C, size=num_weights)\n",
    "        W_centered = W_centered.reshape(-1, dim[0], dim[1])\n",
    "        \n",
    "        # shift around to uniformly cover the visual field\n",
    "        centers = np.random.randint((dim[0], dim[1]), size=(num_weights, 2))\n",
    "        shifts = centers - c\n",
    "        W = np.zeros_like(W_centered)\n",
    "        for i, [y_shift, x_shift] in enumerate(shifts):\n",
    "            W[i] = shift_pad(W_centered[i], y_shift, x_shift)\n",
    "        W = W.reshape(-1, dim[0] * dim[1])\n",
    "\n",
    "    elif center != None:\n",
    "        C = V1_covariance_matrix(dim, size, spatial_freq, center, scale)\n",
    "        W = np.random.multivariate_normal(mean=np.zeros(dim[0] * dim[1]), cov=C, size=num_weights)\n",
    "        \n",
    "    return W"
   ]
  },
  {
   "cell_type": "code",
   "execution_count": 7,
   "id": "9b0505f0-b533-4d61-aa71-295077c3c420",
   "metadata": {},
   "outputs": [
    {
     "data": {
      "text/plain": [
       "Text(0.5, 1.0, '[4 4]')"
      ]
     },
     "execution_count": 7,
     "metadata": {},
     "output_type": "execute_result"
    },
    {
     "data": {
      "image/png": "[encoded data removed]",
      "text/plain": [
       "<Figure size 576x288 with 2 Axes>"
      ]
     },
     "metadata": {
      "needs_background": "light"
     },
     "output_type": "display_data"
    }
   ],
   "source": [
    "i = np.random.randint(num_weights)\n",
    "w = W[i].copy()\n",
    "w_new = shift_pad(w, shifts[i][0], shifts[i][1])\n",
    "\n",
    "fig = plt.figure(figsize=(8, 4))\n",
    "ax = fig.add_subplot(1, 2, 1)\n",
    "plt.imshow(w, cmap='PuOr')\n",
    "plt.clim(-5, 5)\n",
    "plt.plot(centers[i][1], centers[i][0], 'ro', markersize=10)\n",
    "\n",
    "ax = fig.add_subplot(1, 2, 2)\n",
    "plt.imshow(w_new, cmap='PuOr')\n",
    "plt.clim(-5, 5)\n",
    "plt.plot(centers[i][1], centers[i][0], 'ro', markersize=10)\n",
    "plt.title(centers[i])"
   ]
  },
  {
   "cell_type": "code",
   "execution_count": 8,
   "id": "93a5e0db-99a2-4a99-a8c6-0cfcc4f1c21b",
   "metadata": {},
   "outputs": [],
   "source": [
    "num_weights = 10000\n",
    "dim = (28, 28)\n",
    "center = (20, 20)\n",
    "size, spatial_freq = 2.5, 2\n",
    "scale=1\n",
    "\n",
    "W = V1_weights(num_weights, dim, size, spatial_freq, center=center, seed=35)"
   ]
  },
  {
   "cell_type": "code",
   "execution_count": 9,
   "id": "0bca1369-d106-4863-958b-dbe7db687702",
   "metadata": {},
   "outputs": [
    {
     "data": {
      "image/png": "[encoded data removed]",
      "text/plain": [
       "<Figure size 576x288 with 1 Axes>"
      ]
     },
     "metadata": {
      "needs_background": "light"
     },
     "output_type": "display_data"
    }
   ],
   "source": [
    "i = np.random.randint(num_weights)\n",
    "fig = plt.figure(figsize=(8, 4))\n",
    "ax = fig.add_subplot(1, 2, 1)\n",
    "plt.imshow(W[1947].reshape(dim), cmap='PuOr')\n",
    "plt.clim(-4, 4)"
   ]
  },
  {
   "cell_type": "code",
   "execution_count": 14,
   "id": "1d69ec23-ac53-4d38-a76d-a3cd6238d3dc",
   "metadata": {},
   "outputs": [],
   "source": [
    "# test that the V1 weights scripts generates weights with multiple centers\n",
    "dim = (28, 28)\n",
    "from scipy.ndimage.measurements import center_of_mass\n",
    "W = V1_weights(200, dim, 2.5, 2, center=None, seed=35)\n",
    "W = W.reshape(-1, dim[0], dim[1])"
   ]
  },
  {
   "cell_type": "code",
   "execution_count": 15,
   "id": "d392be79-4c43-4f38-9312-8e8bfa7c1115",
   "metadata": {},
   "outputs": [
    {
     "data": {
      "text/plain": [
       "[<matplotlib.lines.Line2D at 0x7fcd1b407b80>]"
      ]
     },
     "execution_count": 15,
     "metadata": {},
     "output_type": "execute_result"
    },
    {
     "data": {
      "image/png": "[encoded data removed]",
      "text/plain": [
       "<Figure size 432x288 with 1 Axes>"
      ]
     },
     "metadata": {
      "needs_background": "light"
     },
     "output_type": "display_data"
    }
   ],
   "source": [
    "com = np.array([center_of_mass(np.abs(img) ** 4) for img in W])\n",
    "\n",
    "fig = plt.figure()\n",
    "plt.plot(com[:, 1], com[:, 0], 'o')"
   ]
  },
  {
   "cell_type": "code",
   "execution_count": null,
   "id": "c7b5f699-ff7a-4143-98d8-ecd7b4fe7130",
   "metadata": {},
   "outputs": [],
   "source": []
  },
  {
   "cell_type": "code",
   "execution_count": null,
   "id": "423b054b-8ff5-411b-bdb7-25ceefb69b78",
   "metadata": {},
   "outputs": [],
   "source": []
  }
 ],
 "metadata": {
  "kernelspec": {
   "display_name": "Python 3",
   "language": "python",
   "name": "python3"
  },
  "language_info": {
   "codemirror_mode": {
    "name": "ipython",
    "version": 3
   },
   "file_extension": ".py",
   "mimetype": "text/x-python",
   "name": "python",
   "nbconvert_exporter": "python",
   "pygments_lexer": "ipython3",
   "version": "3.8.10"
  }
 },
 "nbformat": 4,
 "nbformat_minor": 5
}
