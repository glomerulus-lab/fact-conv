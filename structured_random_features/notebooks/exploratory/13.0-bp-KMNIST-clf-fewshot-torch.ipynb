{
 "cells": [
  {
   "cell_type": "code",
   "execution_count": 1,
   "metadata": {},
   "outputs": [],
   "source": [
    "from os import getcwd\n",
    "from os.path import abspath, join\n",
    "\n",
    "import numpy as np\n",
    "import pickle\n",
    "import torch\n",
    "import torch.nn as nn\n",
    "import torch.nn.functional as F\n",
    "import torch.optim as optim\n",
    "from tqdm import tqdm\n",
    "\n",
    "from src.data.load_dataset import load_kmnist\n",
    "from src.models.networks import V1_mnist_RFNet, classical_RFNet\n",
    "from src.models.utils import train, test"
   ]
  },
  {
   "cell_type": "code",
   "execution_count": 2,
   "metadata": {},
   "outputs": [],
   "source": [
    "device = torch.device('cuda' if torch.cuda.is_available() else 'cpu') "
   ]
  },
  {
   "cell_type": "code",
   "execution_count": 3,
   "metadata": {},
   "outputs": [
    {
     "ename": "RuntimeError",
     "evalue": "Dataset not found. You can use download=True to download it",
     "output_type": "error",
     "traceback": [
      "\u001b[0;31m---------------------------------------------------------------------------\u001b[0m",
      "\u001b[0;31mRuntimeError\u001b[0m                              Traceback (most recent call last)",
      "\u001b[0;32m<ipython-input-3-eb078e1819d8>\u001b[0m in \u001b[0;36m<module>\u001b[0;34m\u001b[0m\n\u001b[1;32m      1\u001b[0m \u001b[0;31m# load data\u001b[0m\u001b[0;34m\u001b[0m\u001b[0;34m\u001b[0m\u001b[0;34m\u001b[0m\u001b[0m\n\u001b[1;32m      2\u001b[0m \u001b[0mtrain_batch_size\u001b[0m\u001b[0;34m,\u001b[0m \u001b[0mtrain_percentage\u001b[0m \u001b[0;34m=\u001b[0m \u001b[0;36m64\u001b[0m\u001b[0;34m,\u001b[0m \u001b[0;36m0.01\u001b[0m\u001b[0;34m\u001b[0m\u001b[0;34m\u001b[0m\u001b[0m\n\u001b[0;32m----> 3\u001b[0;31m \u001b[0mtrain_loader\u001b[0m\u001b[0;34m,\u001b[0m \u001b[0mval_loader\u001b[0m\u001b[0;34m,\u001b[0m \u001b[0mtest_loader\u001b[0m \u001b[0;34m=\u001b[0m \u001b[0mload_kmnist\u001b[0m\u001b[0;34m(\u001b[0m\u001b[0mtrain_batch_size\u001b[0m\u001b[0;34m,\u001b[0m \u001b[0mtrain_percentage\u001b[0m\u001b[0;34m)\u001b[0m\u001b[0;34m\u001b[0m\u001b[0;34m\u001b[0m\u001b[0m\n\u001b[0m\u001b[1;32m      4\u001b[0m \u001b[0;34m\u001b[0m\u001b[0m\n\u001b[1;32m      5\u001b[0m \u001b[0;31m# training params\u001b[0m\u001b[0;34m\u001b[0m\u001b[0;34m\u001b[0m\u001b[0;34m\u001b[0m\u001b[0m\n",
      "\u001b[0;32m~/random_features/src/data/load_dataset.py\u001b[0m in \u001b[0;36mload_kmnist\u001b[0;34m(train_batch_size, train_percentage, seed)\u001b[0m\n\u001b[1;32m    585\u001b[0m     transform = transforms.Compose([transforms.ToTensor(), \n\u001b[1;32m    586\u001b[0m                                         transforms.Normalize((0.1307,), (0.3081,))])\n\u001b[0;32m--> 587\u001b[0;31m     \u001b[0mtrain_set\u001b[0m \u001b[0;34m=\u001b[0m \u001b[0mdatasets\u001b[0m\u001b[0;34m.\u001b[0m\u001b[0mKMNIST\u001b[0m\u001b[0;34m(\u001b[0m\u001b[0mdata_dir\u001b[0m\u001b[0;34m,\u001b[0m \u001b[0mtrain\u001b[0m\u001b[0;34m=\u001b[0m\u001b[0;32mTrue\u001b[0m\u001b[0;34m,\u001b[0m \u001b[0mdownload\u001b[0m\u001b[0;34m=\u001b[0m\u001b[0;32mFalse\u001b[0m\u001b[0;34m,\u001b[0m \u001b[0mtransform\u001b[0m\u001b[0;34m=\u001b[0m\u001b[0mtransform\u001b[0m\u001b[0;34m)\u001b[0m\u001b[0;34m\u001b[0m\u001b[0;34m\u001b[0m\u001b[0m\n\u001b[0m\u001b[1;32m    588\u001b[0m     \u001b[0mtest_set\u001b[0m \u001b[0;34m=\u001b[0m \u001b[0mdatasets\u001b[0m\u001b[0;34m.\u001b[0m\u001b[0mKMNIST\u001b[0m\u001b[0;34m(\u001b[0m\u001b[0mdata_dir\u001b[0m\u001b[0;34m,\u001b[0m \u001b[0mtrain\u001b[0m\u001b[0;34m=\u001b[0m\u001b[0;32mFalse\u001b[0m\u001b[0;34m,\u001b[0m \u001b[0mdownload\u001b[0m\u001b[0;34m=\u001b[0m\u001b[0;32mFalse\u001b[0m\u001b[0;34m,\u001b[0m \u001b[0mtransform\u001b[0m\u001b[0;34m=\u001b[0m\u001b[0mtransform\u001b[0m\u001b[0;34m)\u001b[0m\u001b[0;34m\u001b[0m\u001b[0;34m\u001b[0m\u001b[0m\n\u001b[1;32m    589\u001b[0m \u001b[0;34m\u001b[0m\u001b[0m\n",
      "\u001b[0;32m~/anaconda3/lib/python3.8/site-packages/torchvision/datasets/mnist.py\u001b[0m in \u001b[0;36m__init__\u001b[0;34m(self, root, train, transform, target_transform, download)\u001b[0m\n\u001b[1;32m     71\u001b[0m \u001b[0;34m\u001b[0m\u001b[0m\n\u001b[1;32m     72\u001b[0m         \u001b[0;32mif\u001b[0m \u001b[0;32mnot\u001b[0m \u001b[0mself\u001b[0m\u001b[0;34m.\u001b[0m\u001b[0m_check_exists\u001b[0m\u001b[0;34m(\u001b[0m\u001b[0;34m)\u001b[0m\u001b[0;34m:\u001b[0m\u001b[0;34m\u001b[0m\u001b[0;34m\u001b[0m\u001b[0m\n\u001b[0;32m---> 73\u001b[0;31m             raise RuntimeError('Dataset not found.' +\n\u001b[0m\u001b[1;32m     74\u001b[0m                                ' You can use download=True to download it')\n\u001b[1;32m     75\u001b[0m \u001b[0;34m\u001b[0m\u001b[0m\n",
      "\u001b[0;31mRuntimeError\u001b[0m: Dataset not found. You can use download=True to download it"
     ]
    }
   ],
   "source": [
    "# load data\n",
    "train_batch_size, train_percentage = 64, 0.01\n",
    "train_loader, val_loader, test_loader = load_kmnist(train_batch_size, train_percentage)\n",
    "\n",
    "# training params\n",
    "num_epochs = 10\n",
    "step_size, gamma = 5, 0.1 # lr scheduler\n",
    "num_trials = 50\n",
    "log_interval = 100\n",
    "num_neurons = sorted(set(np.logspace(0, 3.5, 50).astype('int')))\n",
    "loss_fn = F.cross_entropy"
   ]
  },
  {
   "cell_type": "markdown",
   "metadata": {},
   "source": [
    "### V1 RFNet with optimized parameters"
   ]
  },
  {
   "cell_type": "code",
   "execution_count": null,
   "metadata": {},
   "outputs": [
    {
     "name": "stderr",
     "output_type": "stream",
     "text": [
      "  2%|▏         | 1/44 [02:55<2:05:40, 175.37s/it]"
     ]
    }
   ],
   "source": [
    "s, f, c = 5.34, 1.965, None\n",
    "lr = 0.0031485838088746586\n",
    "\n",
    "test_v1 = {'hidden_size': [], 'mean': [], 'std': []}\n",
    "for hidden_size in tqdm(num_neurons):\n",
    "    accuracy = []\n",
    "    for trial in range(num_trials):\n",
    "        model = V1_mnist_RFNet(hidden_size, s, f, c).to(device)\n",
    "        optimizer = optim.Adam(model.parameters(), lr=lr)\n",
    "        scheduler = optim.lr_scheduler.StepLR(optimizer, step_size=step_size, gamma=gamma)\n",
    "\n",
    "        for epoch in range(num_epochs):\n",
    "            _ = train(log_interval, device, model, train_loader, optimizer, epoch, loss_fn, verbose=False)\n",
    "            scheduler.step()\n",
    "        accuracy.append(test(model, device, test_loader, verbose=False))\n",
    "        \n",
    "    test_v1['hidden_size'].append(hidden_size)\n",
    "    test_v1['mean'].append(np.mean(accuracy))\n",
    "    test_v1['std'].append(np.std(accuracy))"
   ]
  },
  {
   "cell_type": "markdown",
   "metadata": {},
   "source": [
    "### Classical RFNet"
   ]
  },
  {
   "cell_type": "code",
   "execution_count": null,
   "metadata": {},
   "outputs": [],
   "source": [
    "inp_size = (1, 28, 28)\n",
    "lr = 0.01922083004518646\n",
    "\n",
    "test_classical = {'hidden_size': [], 'mean': [], 'std': []} \n",
    "for hidden_size in tqdm(num_neurons):\n",
    "    accuracy = []\n",
    "    for trial in range(num_trials):\n",
    "        model = classical_RFNet(inp_size, hidden_size).to(device)\n",
    "        optimizer = optim.Adam(model.parameters(), lr=lr)\n",
    "        scheduler = optim.lr_scheduler.StepLR(optimizer, step_size=step_size, gamma=gamma)\n",
    "\n",
    "        for epoch in range(num_epochs):\n",
    "            _ = train(log_interval, device, model, train_loader, optimizer, epoch, loss_fn, verbose=False)\n",
    "            scheduler.step()\n",
    "        accuracy.append(test(model, device, test_loader, verbose=False))\n",
    "\n",
    "    test_classical['hidden_size'].append(hidden_size)\n",
    "    test_classical['mean'].append(np.mean(accuracy))\n",
    "    test_classical['std'].append(np.std(accuracy))"
   ]
  },
  {
   "cell_type": "markdown",
   "metadata": {},
   "source": [
    "### V1 RFNet with incompatible parameters $s=0.5$, $f=0.5$"
   ]
  },
  {
   "cell_type": "code",
   "execution_count": null,
   "metadata": {},
   "outputs": [],
   "source": [
    "s, f, c = 0.5, 0.5, None\n",
    "lr = 0.0031485838088746586\n",
    "\n",
    "test_incompatible = {'hidden_size': [], 'mean': [], 'std': []}\n",
    "for hidden_size in tqdm(num_neurons):\n",
    "    accuracy = []\n",
    "    for trial in range(num_trials):\n",
    "        model = V1_mnist_RFNet(hidden_size, s, f, c).to(device)\n",
    "        optimizer = optim.Adam(model.parameters(), lr=lr)\n",
    "        scheduler = optim.lr_scheduler.StepLR(optimizer, step_size=step_size, gamma=gamma)\n",
    "\n",
    "        for epoch in range(num_epochs):\n",
    "            _ = train(log_interval, device, model, train_loader, optimizer, epoch, loss_fn, verbose=False)\n",
    "            scheduler.step()\n",
    "        accuracy.append(test(model, device, test_loader, verbose=False))\n",
    "        \n",
    "    test_incompatible['hidden_size'].append(hidden_size)\n",
    "    test_incompatible['mean'].append(np.mean(accuracy))\n",
    "    test_incompatible['std'].append(np.std(accuracy))"
   ]
  },
  {
   "cell_type": "code",
   "execution_count": 6,
   "metadata": {},
   "outputs": [],
   "source": [
    "# save\n",
    "test_classical = {'hidden_size': [], 'mean': [], 'std': []} \n",
    "test_incompatible = {'hidden_size': [], 'mean': [], 'std': []}\n",
    "test = {'v1': test_v1, 'classical': test_classical, 'incompatible': test_incompatible}\n",
    "data_dir = abspath(join(getcwd(), '../../'))\n",
    "with open(data_dir + '/models/results/kmnist_clf/kmnist_clf_s=%0.2f_f=%0.2f_fewshot_torch.pickle' % (s, f), 'wb') as handle:\n",
    "    pickle.dump(test, handle, protocol=pickle.HIGHEST_PROTOCOL) "
   ]
  },
  {
   "cell_type": "code",
   "execution_count": null,
   "metadata": {},
   "outputs": [],
   "source": [
    "import matplotlib.pyplot as plt\n",
    "\n",
    "fig = plt.figure()\n",
    "plt.plot(test_v1['hidden_size'], test_v1['mean'])\n",
    "plt.plot(test_classical['hidden_size'], test_classical['mean'])\n",
    "plt.plot(test_incompatible['hidden_size'], test_incompatible['mean'])\n",
    "plt.xlim([0, 1000])"
   ]
  },
  {
   "cell_type": "code",
   "execution_count": 5,
   "metadata": {},
   "outputs": [
    {
     "data": {
      "text/plain": [
       "[(1, 10.733999999999998),\n",
       " (2, 10.3376),\n",
       " (3, 11.683000000000002),\n",
       " (4, 11.913400000000001),\n",
       " (5, 12.441200000000002),\n",
       " (6, 12.8752),\n",
       " (7, 13.2948),\n",
       " (8, 13.9174),\n",
       " (10, 15.0318),\n",
       " (11, 16.6122),\n",
       " (13, 17.998),\n",
       " (16, 19.477600000000002),\n",
       " (19, 21.809200000000004),\n",
       " (22, 23.952399999999997),\n",
       " (26, 26.952199999999998),\n",
       " (31, 29.332400000000003),\n",
       " (37, 32.281),\n",
       " (43, 34.942800000000005),\n",
       " (51, 37.3968),\n",
       " (61, 40.098800000000004),\n",
       " (71, 42.9318),\n",
       " (84, 44.24759999999999),\n",
       " (100, 47.1958),\n",
       " (117, 49.57019999999999),\n",
       " (138, 51.151399999999995),\n",
       " (163, 52.84960000000001),\n",
       " (193, 54.490199999999994),\n",
       " (227, 56.096599999999995),\n",
       " (268, 57.35560000000001),\n",
       " (316, 58.5168),\n",
       " (372, 59.386999999999986),\n",
       " (439, 60.1482),\n",
       " (517, 61.157399999999996),\n",
       " (610, 61.63539999999999),\n",
       " (719, 62.345600000000005),\n",
       " (848, 62.6916)]"
      ]
     },
     "execution_count": 5,
     "metadata": {},
     "output_type": "execute_result"
    }
   ],
   "source": [
    "list(zip(test_v1['hidden_size'], test_v1['mean']))"
   ]
  },
  {
   "cell_type": "code",
   "execution_count": null,
   "metadata": {},
   "outputs": [],
   "source": []
  }
 ],
 "metadata": {
  "kernelspec": {
   "display_name": "Python 3",
   "language": "python",
   "name": "python3"
  },
  "language_info": {
   "codemirror_mode": {
    "name": "ipython",
    "version": 3
   },
   "file_extension": ".py",
   "mimetype": "text/x-python",
   "name": "python",
   "nbconvert_exporter": "python",
   "pygments_lexer": "ipython3",
   "version": "3.8.3"
  }
 },
 "nbformat": 4,
 "nbformat_minor": 5
}
