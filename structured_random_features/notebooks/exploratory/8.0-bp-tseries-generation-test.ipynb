{
 "cells": [
  {
   "cell_type": "code",
   "execution_count": 1,
   "id": "8091bbb2-028b-4b05-b0b0-61a726499eee",
   "metadata": {},
   "outputs": [],
   "source": [
    "import matplotlib.pyplot as plt\n",
    "import numpy as np\n",
    "import numpy.linalg as la\n",
    "from scipy.linalg import dft\n",
    "\n",
    "from src.data.load_dataset import generate_frequency_XOR, generate_frequency_detection"
   ]
  },
  {
   "cell_type": "code",
   "execution_count": null,
   "id": "1e620468-97f5-4839-9881-23d6525013be",
   "metadata": {},
   "outputs": [],
   "source": [
    "# how to sample sine waves with certain frequency discreetly\n",
    "duration = 0.2 # seconds\n",
    "fs = 2000 # Hz\n",
    "f1 = 30"
   ]
  },
  {
   "cell_type": "code",
   "execution_count": null,
   "id": "a547bdc6-7cf2-43ae-bad1-700a897c57ac",
   "metadata": {},
   "outputs": [],
   "source": [
    "# t-steps\n",
    "t = np.arange(0, duration, 1 / fs)\n",
    "d = len(t)\n",
    "assert d == fs * duration, \"Dimensions of t-series is incorrect\"\n",
    "\n",
    "# dft matrix\n",
    "dft_mat = dft(d, scale='sqrtn')\n",
    "\n",
    "# what is the row of the dft matrix that I should sample??\n",
    "idx = int(f1 * duration)\n",
    "fig = plt.figure()\n",
    "plt.plot(dft_mat[idx].real)\n",
    "print(idx)"
   ]
  },
  {
   "cell_type": "code",
   "execution_count": null,
   "id": "a2f35fd7-c872-448e-9203-33438c9829f8",
   "metadata": {},
   "outputs": [],
   "source": [
    "import scipy\n",
    "num_samples, sampling_rate, freq, duration, snr, seed = 5000, 2000, 20, 0.1, 0.8, None"
   ]
  },
  {
   "cell_type": "code",
   "execution_count": null,
   "id": "1181ddf1-b838-4f17-8028-e0a25413cc58",
   "metadata": {},
   "outputs": [],
   "source": [
    "np.random.seed(seed)\n",
    "\n",
    "N = int(sampling_rate * duration)\n",
    "noise_amplitude = np.sqrt(1 - snr ** 2)\n",
    "\n",
    "# dft matrix\n",
    "A = scipy.linalg.dft(N, scale='sqrtn')\n",
    "idx = int(freq * duration)"
   ]
  },
  {
   "cell_type": "code",
   "execution_count": null,
   "id": "4b094a13-34fe-436f-8b80-9d1afcef8196",
   "metadata": {},
   "outputs": [],
   "source": [
    "# positive examples\n",
    "n_pos = int(num_samples / 2)\n",
    "c = np.zeros((N, n_pos), dtype='complex')\n",
    "rand = np.random.normal(loc=0, scale=1, size=(n_pos, 2)).view(complex).flatten()\n",
    "rand /= np.abs(rand)\n",
    "c[idx] = rand\n",
    "pos = np.sqrt(2 / (duration)) * snr * (A @ c).T.real\n",
    "\n",
    "# norms\n",
    "i = np.random.randint(100)\n",
    "norms = la.norm(pos, axis=1) ** 2 * duration \n",
    "fig = plt.figure(figsize=(12, 3))\n",
    "ax = fig.add_subplot(121)\n",
    "plt.plot(pos[i])\n",
    "\n",
    "ax = fig.add_subplot(122)\n",
    "plt.title(np.mean(norms))\n",
    "plt.plot(norms)\n",
    "plt.ylim(0, 2)"
   ]
  },
  {
   "cell_type": "code",
   "execution_count": null,
   "id": "4c6e7e24-731a-49f3-af6c-15d61c7e8e1e",
   "metadata": {},
   "outputs": [],
   "source": [
    "# noise for positive egs\n",
    "rand = np.random.normal(loc=0, scale=1, size=(N, n_pos, 2)).view(complex).squeeze(axis=2)\n",
    "rand /= np.abs(rand)\n",
    "rand[idx] = 0. # don't add noise to the signal component\n",
    "noise = np.sqrt(2 / (duration)) * noise_amplitude / np.sqrt(N - 1) * (A @ rand).T.real\n",
    "\n",
    "# norms\n",
    "i = np.random.randint(100)\n",
    "norms = la.norm(noise, axis=1) ** 2 * duration \n",
    "fig = plt.figure(figsize=(12, 3))\n",
    "ax = fig.add_subplot(121)\n",
    "plt.plot(noise[i])\n",
    "\n",
    "ax = fig.add_subplot(122)\n",
    "plt.title(np.mean(norms))\n",
    "plt.plot(norms)\n",
    "plt.ylim(0, 2)"
   ]
  },
  {
   "cell_type": "code",
   "execution_count": null,
   "id": "592503d6-8e47-4420-83f1-a1f1bf14033f",
   "metadata": {},
   "outputs": [],
   "source": [
    "# combine\n",
    "X_pos = pos + noise\n",
    "\n",
    "# norms\n",
    "i = np.random.randint(100)\n",
    "norms = la.norm(X_pos, axis=1) ** 2 * duration \n",
    "fig = plt.figure(figsize=(12, 3))\n",
    "ax = fig.add_subplot(121)\n",
    "plt.plot(X_pos[i])\n",
    "\n",
    "ax = fig.add_subplot(122)\n",
    "plt.title(np.mean(norms))\n",
    "plt.plot(norms)\n",
    "plt.ylim(0.5, 1.5)"
   ]
  },
  {
   "cell_type": "code",
   "execution_count": null,
   "id": "fb4bedea-a9b8-4208-be01-54f84d1a3fb3",
   "metadata": {},
   "outputs": [],
   "source": [
    "# negative egs\n",
    "n_neg = int(num_samples / 2)\n",
    "c = np.random.normal(loc=0, scale=1, size=(N, n_neg, 2)).view(complex).squeeze(axis=2)\n",
    "c /= np.abs(c)\n",
    "X_neg = np.sqrt(2 / (N * duration)) * (A @ c).T.real\n",
    "\n",
    "# norms\n",
    "i = np.random.randint(100)\n",
    "norms = la.norm(X_neg, axis=1) ** 2 * duration \n",
    "fig = plt.figure(figsize=(12, 3))\n",
    "ax = fig.add_subplot(121)\n",
    "plt.plot(X_neg[i])\n",
    "\n",
    "ax = fig.add_subplot(122)\n",
    "plt.title(np.mean(norms))\n",
    "plt.plot(norms)\n",
    "plt.ylim(0.5, 1.5)"
   ]
  },
  {
   "cell_type": "code",
   "execution_count": null,
   "id": "96cde691-dbdb-432e-b855-9b7beed1030c",
   "metadata": {},
   "outputs": [],
   "source": [
    "import sklearn.utils as sk_utils\n",
    "def generate_frequency_detection(num_samples, sampling_rate, freq, duration, snr, seed=None):\n",
    "    \"\"\"\n",
    "    Generate frequency detection task. The positive examples are pure\n",
    "    sinusoids with additive gaussian noise and the negative examples are \n",
    "    white noise. The examples are generated using the DFT matrix.\n",
    "\n",
    "    Parameters\n",
    "    ----------\n",
    "\n",
    "    num_samples : int\n",
    "        Number of total examples\n",
    "\n",
    "    sampling_rate : int Hz\n",
    "        Sampling rate of the signal\n",
    "    \n",
    "    freq : int Hz\n",
    "        Frequency of the signal\n",
    "\n",
    "    duration: float\n",
    "        Length of the signal in seconds.\n",
    "\n",
    "    snr : float, 0 <= a <= 1\n",
    "        Determines the SNR of the signal.\n",
    "        SNR = a ** 2 / (1 - a ** 2)\n",
    "\n",
    "    seed : int\n",
    "        Random state of the generated examples\n",
    "\n",
    "    Returns\n",
    "    -------\n",
    "    X : (array-like) of shape (num_samples, num_features)\n",
    "        Every row corresponds to an example with num_features components.\n",
    "        num_features =  sampling_rate * duration\n",
    "\n",
    "    y : (array-like) of shape (num_samples,)\n",
    "        Target label (0/1) for every example. \n",
    "    \"\"\"\n",
    "\n",
    "    np.random.seed(seed)\n",
    "    \n",
    "    N = int(sampling_rate * duration)\n",
    "    noise_amplitude = np.sqrt(1 - snr ** 2)\n",
    "\n",
    "    # dft matrix\n",
    "    A = scipy.linalg.dft(N, scale='sqrtn')\n",
    "    idx = int(freq * duration) # row of DFT matrix that corresponds to the frequency\n",
    "\n",
    "    # positive examples\n",
    "    n_pos = int(num_samples / 2)\n",
    "    c = np.zeros((N, n_pos), dtype='complex')\n",
    "    rand = np.random.normal(loc=0, scale=1, size=(n_pos, 2)).view(complex).flatten()\n",
    "    rand /= np.abs(rand)\n",
    "    c[idx] = rand\n",
    "    X_pos = np.sqrt(2 / duration) * snr * (A @ c).T.real\n",
    "\n",
    "    # noise for positive egs\n",
    "    rand = np.random.normal(loc=0, scale=1, size=(N, n_pos, 2)).view(complex).squeeze(axis=2)\n",
    "    rand /= np.abs(rand)\n",
    "    rand[idx] = 0. # don't add noise to the signal component\n",
    "    noise = np.sqrt(2 / ((N-1) * duration)) * noise_amplitude * (A @ rand).T.real\n",
    "    X_pos += noise\n",
    "\n",
    "    # negative egs\n",
    "    n_neg = int(num_samples / 2)\n",
    "    c = np.random.normal(loc=0, scale=1, size=(N, n_neg, 2)).view(complex).squeeze(axis=2)\n",
    "    c /= np.abs(c)\n",
    "    X_neg = np.sqrt(2 / (N * duration)) * (A @ c).T.real\n",
    "\n",
    "    # concatenate and shuffle\n",
    "    X = np.vstack((X_pos, X_neg))\n",
    "    y = np.hstack((np.ones(n_pos), np.zeros(n_neg)))\n",
    "    X, y = sk_utils.shuffle(X, y)\n",
    "\n",
    "    return X, y"
   ]
  },
  {
   "cell_type": "code",
   "execution_count": null,
   "id": "09be36a1-5ad0-482c-8902-e4b74c045ec6",
   "metadata": {},
   "outputs": [],
   "source": [
    "num_samples, sampling_rate, freq, duration, snr, seed = 5000, 4000, 10, 0.2, 0.8, None\n",
    "X, y = generate_frequency_detection(num_samples, sampling_rate, freq, duration, snr, seed)\n",
    "norms = la.norm(X, axis=1) ** 2 * duration"
   ]
  },
  {
   "cell_type": "code",
   "execution_count": null,
   "id": "5d183860-df6a-4c0a-a168-25344b9559e9",
   "metadata": {},
   "outputs": [],
   "source": [
    "fig = plt.figure(figsize=(12, 4))\n",
    "i = np.random.randint(100)\n",
    "ax = fig.add_subplot(121)\n",
    "plt.plot(X[y==0][i], 'r')\n",
    "plt.plot(X[y==1][i], 'b')\n",
    "\n",
    "ax = fig.add_subplot(122)\n",
    "t = np.arange(2500)\n",
    "plt.plot(t, norms[y==0], 'r')\n",
    "plt.plot(t + 2500, norms[y==1], 'b')\n",
    "print(np.mean(norms[y==0]), np.mean(norms[y==1]))"
   ]
  },
  {
   "cell_type": "code",
   "execution_count": null,
   "id": "a4efaf8e-7663-461a-a25c-f42fc14e7efa",
   "metadata": {},
   "outputs": [],
   "source": [
    "# now do the same for XOR\n",
    "num_samples, sampling_rate, freq1, freq2, duration, snr, seed = 5000, 2000, 50, 80, 0.1, 0.8, None"
   ]
  },
  {
   "cell_type": "code",
   "execution_count": null,
   "id": "f1f42382-79a6-462f-8680-83d73298102e",
   "metadata": {},
   "outputs": [],
   "source": [
    "np.random.seed(seed)\n",
    "\n",
    "N = int(sampling_rate * duration)\n",
    "noise_amplitude = np.sqrt(1 - snr ** 2)\n",
    "\n",
    "#dft matrix\n",
    "A = scipy.linalg.dft(N, scale='sqrtn')\n",
    "idx1 = int(freq1 * duration) # row of DFT matrix that corresponds to the frequency\n",
    "idx2 = int(freq2 * duration)"
   ]
  },
  {
   "cell_type": "code",
   "execution_count": null,
   "id": "2531789b-e353-403f-857f-c95d3e3fce88",
   "metadata": {},
   "outputs": [],
   "source": [
    "# positive examples\n",
    "n_pos = int(num_samples/2)\n",
    "c = np.zeros((N, n_pos), dtype='complex')\n",
    "rand = np.random.normal(loc=0, scale=1, size=(int(n_pos/ 2), 2)).view(complex).flatten()\n",
    "rand /= np.abs(rand)\n",
    "c[idx1, :int(n_pos/2)] = rand\n",
    "\n",
    "rand = np.random.normal(loc=0, scale=1, size=(int(n_pos/ 2), 2)).view(complex).flatten()\n",
    "rand /= np.abs(rand)\n",
    "c[idx2, int(n_pos/2):] = rand\n",
    "pos = np.sqrt(2 / duration) * snr * (A @ c).T.real\n",
    "\n",
    "norms = la.norm(pos, axis=1) ** 2 * duration\n",
    "# norms\n",
    "fig = plt.figure(figsize=(12, 4))\n",
    "i = np.random.randint(100)\n",
    "ax = fig.add_subplot(121)\n",
    "plt.plot(pos[i], 'r')\n",
    "plt.plot(pos[-i], 'b')\n",
    "\n",
    "ax = fig.add_subplot(122)\n",
    "t = np.arange(2500)\n",
    "plt.plot(t, norms, 'r')\n",
    "print(np.mean(norms[:1250]), np.mean(norms[1250:]))"
   ]
  },
  {
   "cell_type": "code",
   "execution_count": null,
   "id": "f1ceff14-10a3-4d0a-82a5-9dc10e3e1123",
   "metadata": {},
   "outputs": [],
   "source": [
    "# noise for positive egs\n",
    "rand = np.random.normal(loc=0, scale=1, size=(N, n_pos, 2)).view(complex).squeeze(axis=2)\n",
    "rand /= np.abs(rand)\n",
    "rand[idx1, :int(n_pos/2)] = 0. # don't add noise for signal frequency\n",
    "rand[idx2, int(n_pos/2):] = 0.\n",
    "noise = np.sqrt(2 / ((N-1) * duration)) * noise_amplitude * (A @ rand).T.real\n",
    "\n",
    "norms = la.norm(noise, axis=1) ** 2 * duration\n",
    "# norms\n",
    "fig = plt.figure(figsize=(12, 4))\n",
    "i = np.random.randint(100)\n",
    "ax = fig.add_subplot(121)\n",
    "plt.plot(noise[i], 'r')\n",
    "plt.plot(noise[-i], 'b')\n",
    "\n",
    "ax = fig.add_subplot(122)\n",
    "t = np.arange(2500)\n",
    "plt.plot(t, norms, 'r')\n",
    "print(np.mean(norms[:1250]), np.mean(norms[1250:]))"
   ]
  },
  {
   "cell_type": "code",
   "execution_count": null,
   "id": "66e82cf5-ef0d-45c0-ba44-70e88d087dab",
   "metadata": {},
   "outputs": [],
   "source": [
    "X_pos = pos + noise\n",
    "\n",
    "norms = la.norm(X_pos, axis=1) ** 2 * duration\n",
    "# norms\n",
    "fig = plt.figure(figsize=(12, 4))\n",
    "i = np.random.randint(100)\n",
    "ax = fig.add_subplot(121)\n",
    "plt.plot(X_pos[i], 'r')\n",
    "plt.plot(X_pos[-i], 'b')\n",
    "\n",
    "ax = fig.add_subplot(122)\n",
    "t = np.arange(2500)\n",
    "plt.plot(t, norms, 'r')\n",
    "print(np.mean(norms[:1250]), np.mean(norms[1250:]))"
   ]
  },
  {
   "cell_type": "code",
   "execution_count": null,
   "id": "957d5625-408f-436d-b94a-b83f180e20fb",
   "metadata": {},
   "outputs": [],
   "source": [
    "# negative egs\n",
    "n_neg = int(num_samples/2)\n",
    "\n",
    "# mixed egs\n",
    "c = np.zeros((N, int(n_neg/2)), dtype='complex')\n",
    "rand = np.random.normal(loc=0, scale=1, size=(1, int(n_neg/2), 2)).view(complex).squeeze(axis=2)\n",
    "rand /= np.abs(rand)\n",
    "c[[idx1, idx2]] = rand\n",
    "mixed = np.sqrt(1 / duration) * snr * (A @ c).T.real\n",
    "\n",
    "norms = la.norm(mixed, axis=1) ** 2 * duration\n",
    "# norms\n",
    "fig = plt.figure(figsize=(12, 4))\n",
    "i = np.random.randint(100)\n",
    "ax = fig.add_subplot(121)\n",
    "plt.plot(mixed[i], 'r')\n",
    "\n",
    "ax = fig.add_subplot(122)\n",
    "t = np.arange(1250)\n",
    "plt.plot(t, norms, 'r')\n",
    "plt.title(np.mean(norms))\n",
    "plt.ylim(0, 2)"
   ]
  },
  {
   "cell_type": "code",
   "execution_count": null,
   "id": "2086947b-125d-4dec-8a6a-76250cdb1e6b",
   "metadata": {},
   "outputs": [],
   "source": [
    "# noise for mixed egs\n",
    "rand = np.random.normal(loc=0, scale=1, size=(N, int(n_neg/2), 2)).view(complex).squeeze(axis=2)\n",
    "rand /= np.abs(rand)\n",
    "rand[[idx1, idx2]]= 0.\n",
    "noise = np.sqrt(2 / ((N-2) * duration) ) * noise_amplitude * (A @ rand).T.real\n",
    "\n",
    "norms = la.norm(noise, axis=1) ** 2 * duration\n",
    "# norms\n",
    "fig = plt.figure(figsize=(12, 4))\n",
    "i = np.random.randint(100)\n",
    "ax = fig.add_subplot(121)\n",
    "plt.plot(noise[i], 'r')\n",
    "\n",
    "ax = fig.add_subplot(122)\n",
    "t = np.arange(1250)\n",
    "plt.plot(t, norms, 'r')\n",
    "print(np.mean(norms))"
   ]
  },
  {
   "cell_type": "code",
   "execution_count": null,
   "id": "029b45a1-1368-4b7c-a384-fd915887584d",
   "metadata": {},
   "outputs": [],
   "source": [
    "X_mixed = mixed + noise\n",
    "\n",
    "norms = la.norm(X_mixed, axis=1) ** 2 * duration\n",
    "# norms\n",
    "fig = plt.figure(figsize=(12, 4))\n",
    "i = np.random.randint(100)\n",
    "ax = fig.add_subplot(121)\n",
    "plt.plot(X_mixed[i], 'r')\n",
    "\n",
    "ax = fig.add_subplot(122)\n",
    "t = np.arange(1250)\n",
    "plt.plot(t, norms, 'r')\n",
    "print(np.mean(norms))"
   ]
  },
  {
   "cell_type": "code",
   "execution_count": null,
   "id": "62d4e8be-aa25-45b3-b0f9-44a9c9f06865",
   "metadata": {},
   "outputs": [],
   "source": [
    "# noise as negative egs\n",
    "c = np.random.normal(loc=0, scale=1, size=(N, int(n_neg/2), 2)).view(complex).squeeze(axis=2)\n",
    "c /= np.abs(c)\n",
    "X_noise = np.sqrt(2 / (N * duration)) * (A @ c).T.real\n",
    "\n",
    "norms = la.norm(X_noise, axis=1) ** 2 * duration\n",
    "# norms\n",
    "fig = plt.figure(figsize=(12, 4))\n",
    "i = np.random.randint(100)\n",
    "ax = fig.add_subplot(121)\n",
    "plt.plot(X_noise[i], 'r')\n",
    "\n",
    "ax = fig.add_subplot(122)\n",
    "t = np.arange(1250)\n",
    "plt.plot(t, norms, 'r')\n",
    "print(np.mean(norms))"
   ]
  },
  {
   "cell_type": "code",
   "execution_count": null,
   "id": "10deba39-43dd-4853-80ba-5f72b6df52f9",
   "metadata": {},
   "outputs": [],
   "source": [
    "num_samples, sampling_rate, freq1, freq2, duration, snr, seed = 5000, 2000, 50, 80, 0.1, 0.8, None\n",
    "X, y = generate_frequency_XOR(num_samples, sampling_rate, freq1, freq2, duration, snr, seed, shuffle=False)\n",
    "norms = la.norm(X, axis=1) ** 2 * duration"
   ]
  },
  {
   "cell_type": "code",
   "execution_count": null,
   "id": "b88cdea9-1a52-472c-b037-e68722925f17",
   "metadata": {},
   "outputs": [],
   "source": [
    "fig = plt.figure(figsize=(12, 4))\n",
    "i = np.random.randint(100)\n",
    "ax = fig.add_subplot(121)\n",
    "plt.plot(X[y==0][1251], 'r')\n",
    "plt.plot(X[y==1][-i], 'b')\n",
    "\n",
    "ax = fig.add_subplot(122)\n",
    "t = np.arange(2500)\n",
    "plt.plot(t, norms[y==0], 'r')\n",
    "plt.plot(t + 2500, norms[y==1], 'b')\n",
    "print(np.mean(norms[y==0]), np.mean(norms[y==1]))"
   ]
  },
  {
   "cell_type": "code",
   "execution_count": 6,
   "id": "8ba779be-f27f-4c57-884c-cfded0536dcb",
   "metadata": {},
   "outputs": [
    {
     "name": "stdout",
     "output_type": "stream",
     "text": [
      "1.0011066113484826 0.9996439012904622\n"
     ]
    },
    {
     "data": {
      "image/png": "[encoded data removed]",
      "text/plain": [
       "<Figure size 864x288 with 2 Axes>"
      ]
     },
     "metadata": {
      "needs_background": "light"
     },
     "output_type": "display_data"
    }
   ],
   "source": [
    "# check the src version now\n",
    "num_samples, sampling_rate, freq, duration, snr, seed = 5000, 2000, 50, 0.1, 0.8, None\n",
    "X, y = generate_frequency_detection(num_samples, sampling_rate, freq, duration, snr, seed)\n",
    "norms = la.norm(X, axis=1) ** 2 * duration\n",
    "\n",
    "fig = plt.figure(figsize=(12, 4))\n",
    "i = np.random.randint(100)\n",
    "ax = fig.add_subplot(121)\n",
    "plt.plot(X[y==0][i], 'r')\n",
    "plt.plot(X[y==1][i], 'b')\n",
    "\n",
    "ax = fig.add_subplot(122)\n",
    "t = np.arange(2500)\n",
    "plt.plot(t, norms[y==0], 'r')\n",
    "plt.plot(t + 2500, norms[y==1], 'b')\n",
    "print(np.mean(norms[y==0]), np.mean(norms[y==1]))"
   ]
  },
  {
   "cell_type": "code",
   "execution_count": 11,
   "id": "49a0b5c8-97fe-4559-8154-01a40306d0a5",
   "metadata": {},
   "outputs": [
    {
     "name": "stdout",
     "output_type": "stream",
     "text": [
      "1.0000937365042868 0.9998053600773955\n"
     ]
    },
    {
     "data": {
      "image/png": "[encoded data removed]",
      "text/plain": [
       "<Figure size 864x288 with 2 Axes>"
      ]
     },
     "metadata": {
      "needs_background": "light"
     },
     "output_type": "display_data"
    }
   ],
   "source": [
    "# check src version of XOR\n",
    "num_samples, sampling_rate, freq1, freq2, duration, snr, seed = 5000, 3000, 30, 90, 0.2, 0.8, None\n",
    "X, y = generate_frequency_XOR(num_samples, sampling_rate, freq1, freq2, duration, snr, seed, shuffle=False)\n",
    "norms = la.norm(X, axis=1) ** 2 * duration\n",
    "\n",
    "fig = plt.figure(figsize=(12, 4))\n",
    "i = np.random.randint(100)\n",
    "ax = fig.add_subplot(121)\n",
    "plt.plot(X[y==0][i], 'r')\n",
    "plt.plot(X[y==1][-i], 'b')\n",
    "\n",
    "ax = fig.add_subplot(122)\n",
    "t = np.arange(2500)\n",
    "plt.plot(t, norms[y==0], 'r')\n",
    "plt.plot(t + 2500, norms[y==1], 'b')\n",
    "print(np.mean(norms[y==0]), np.mean(norms[y==1]))"
   ]
  },
  {
   "cell_type": "code",
   "execution_count": null,
   "id": "df47cb5b-ca74-466b-b9ee-9526e7af7c5d",
   "metadata": {},
   "outputs": [],
   "source": []
  },
  {
   "cell_type": "code",
   "execution_count": null,
   "id": "610769ef-349a-4285-9189-1a9654297146",
   "metadata": {},
   "outputs": [],
   "source": []
  }
 ],
 "metadata": {
  "kernelspec": {
   "display_name": "Python 3",
   "language": "python",
   "name": "python3"
  },
  "language_info": {
   "codemirror_mode": {
    "name": "ipython",
    "version": 3
   },
   "file_extension": ".py",
   "mimetype": "text/x-python",
   "name": "python",
   "nbconvert_exporter": "python",
   "pygments_lexer": "ipython3",
   "version": "3.8.10"
  }
 },
 "nbformat": 4,
 "nbformat_minor": 5
}
