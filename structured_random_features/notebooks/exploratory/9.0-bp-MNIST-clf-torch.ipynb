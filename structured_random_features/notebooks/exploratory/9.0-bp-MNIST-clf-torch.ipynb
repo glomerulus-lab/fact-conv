{
 "cells": [
  {
   "cell_type": "code",
   "execution_count": 1,
   "id": "68ac1b94",
   "metadata": {},
   "outputs": [],
   "source": [
    "from os import getcwd\n",
    "from os.path import abspath, join\n",
    "\n",
    "import numpy as np\n",
    "import pickle\n",
    "import torch\n",
    "import torch.nn as nn\n",
    "import torch.nn.functional as F\n",
    "import torch.optim as optim\n",
    "from tqdm import tqdm\n",
    "\n",
    "from src.data.load_dataset import load_mnist\n",
    "from src.models.networks import V1_mnist_RFNet, classical_RFNet\n",
    "from src.models.utils import train, test"
   ]
  },
  {
   "cell_type": "code",
   "execution_count": 2,
   "id": "e9991192-616c-4f7c-a90a-9461b1e392b0",
   "metadata": {},
   "outputs": [],
   "source": [
    "device = torch.device('cuda' if torch.cuda.is_available() else 'cpu') "
   ]
  },
  {
   "cell_type": "code",
   "execution_count": 3,
   "id": "64c88b69",
   "metadata": {},
   "outputs": [],
   "source": [
    "# load data\n",
    "train_batch_size, train_percentage = 256, 0.999\n",
    "train_loader, val_loader, test_loader = load_mnist(train_batch_size, train_percentage)\n",
    "\n",
    "# training params\n",
    "num_epochs = 10\n",
    "step_size, gamma = 2, 0.5 # lr scheduler\n",
    "num_trials = 50\n",
    "log_interval = 100\n",
    "num_neurons = sorted(set(np.logspace(0, 3.5, 50).astype('int')))\n",
    "loss_fn = F.cross_entropy"
   ]
  },
  {
   "cell_type": "markdown",
   "id": "59756014",
   "metadata": {},
   "source": [
    "### V1 RFNet with optimized parameters"
   ]
  },
  {
   "cell_type": "code",
   "execution_count": null,
   "id": "f3135c27",
   "metadata": {},
   "outputs": [
    {
     "name": "stderr",
     "output_type": "stream",
     "text": [
      "  0%|          | 0/44 [00:00<?, ?it/s]"
     ]
    }
   ],
   "source": [
    "s, f, c = 5.34, 1.965, None\n",
    "lr = 0.0031485838088746586\n",
    "\n",
    "test_v1 = {'hidden_size': [], 'mean': [], 'std': []}\n",
    "for hidden_size in tqdm(num_neurons):\n",
    "    accuracy = []\n",
    "    for trial in range(num_trials):\n",
    "        model = V1_mnist_RFNet(hidden_size, s, f, c).to(device)\n",
    "        optimizer = optim.Adam(model.parameters(), lr=lr)\n",
    "        scheduler = optim.lr_scheduler.StepLR(optimizer, step_size=step_size, gamma=gamma)\n",
    "\n",
    "        for epoch in range(num_epochs):\n",
    "            _ = train(log_interval, device, model, train_loader, optimizer, epoch, loss_fn, verbose=False)\n",
    "            scheduler.step()\n",
    "        accuracy.append(test(model, device, test_loader, verbose=False))\n",
    "        \n",
    "    test_v1['hidden_size'].append(hidden_size)\n",
    "    test_v1['mean'].append(np.mean(accuracy))\n",
    "    test_v1['std'].append(np.std(accuracy))"
   ]
  },
  {
   "cell_type": "markdown",
   "id": "222e04f0",
   "metadata": {},
   "source": [
    "### Classical RFNet"
   ]
  },
  {
   "cell_type": "code",
   "execution_count": null,
   "id": "e5248863",
   "metadata": {},
   "outputs": [],
   "source": [
    "inp_size = (1, 28, 28)\n",
    "lr = 0.01922083004518646\n",
    "\n",
    "test_classical = {'hidden_size': [], 'mean': [], 'std': []} \n",
    "for hidden_size in tqdm(num_neurons):\n",
    "    accuracy = []\n",
    "    for trial in range(num_trials):\n",
    "        model = classical_RFNet(inp_size, hidden_size).to(device)\n",
    "        optimizer = optim.Adam(model.parameters(), lr=lr)\n",
    "        scheduler = optim.lr_scheduler.StepLR(optimizer, step_size=step_size, gamma=gamma)\n",
    "\n",
    "        for epoch in range(num_epochs):\n",
    "            _ = train(log_interval, device, model, train_loader, optimizer, epoch, loss_fn, verbose=False)\n",
    "            scheduler.step()\n",
    "        accuracy.append(test(model, device, test_loader, verbose=False))\n",
    "\n",
    "    test_classical['hidden_size'].append(hidden_size)\n",
    "    test_classical['mean'].append(np.mean(accuracy))\n",
    "    test_classical['std'].append(np.std(accuracy))"
   ]
  },
  {
   "cell_type": "markdown",
   "id": "5ba99b82",
   "metadata": {},
   "source": [
    "### V1 RFNet with incompatible parameters $s=0.5$, $f=0.5$"
   ]
  },
  {
   "cell_type": "code",
   "execution_count": null,
   "id": "95772fb4",
   "metadata": {},
   "outputs": [],
   "source": [
    "s, f, c = 0.5, 0.5, None\n",
    "lr = 0.0031485838088746586\n",
    "\n",
    "test_incompatible = {'hidden_size': [], 'mean': [], 'std': []}\n",
    "for hidden_size in tqdm(num_neurons):\n",
    "    accuracy = []\n",
    "    for trial in range(num_trials):\n",
    "        model = V1_mnist_RFNet(hidden_size, s, f, c).to(device)\n",
    "        optimizer = optim.Adam(model.parameters(), lr=lr)\n",
    "        scheduler = optim.lr_scheduler.StepLR(optimizer, step_size=step_size, gamma=gamma)\n",
    "\n",
    "        for epoch in range(num_epochs):\n",
    "            _ = train(log_interval, device, model, train_loader, optimizer, epoch, loss_fn, verbose=False)\n",
    "            scheduler.step()\n",
    "        accuracy.append(test(model, device, test_loader, verbose=False))\n",
    "        \n",
    "    test_incompatible['hidden_size'].append(hidden_size)\n",
    "    test_incompatible['mean'].append(np.mean(accuracy))\n",
    "    test_incompatible['std'].append(np.std(accuracy))"
   ]
  },
  {
   "cell_type": "code",
   "execution_count": 8,
   "id": "7746eaac",
   "metadata": {},
   "outputs": [],
   "source": [
    "# save\n",
    "test_classical = {'hidden_size': [], 'mean': [], 'std': []} \n",
    "test_incompatible = {'hidden_size': [], 'mean': [], 'std': []}\n",
    "test = {'v1': test_v1, 'classical': test_classical, 'incompatible': test_incompatible}\n",
    "data_dir = abspath(join(getcwd(), '../../'))\n",
    "with open(data_dir + '/models/results/mnist_clf/mnist_clf_s=%0.2f_f=%0.2f_torch.pickle' % (s, f), 'wb') as handle:\n",
    "    pickle.dump(test, handle, protocol=pickle.HIGHEST_PROTOCOL) "
   ]
  },
  {
   "cell_type": "code",
   "execution_count": null,
   "id": "d949d1f5",
   "metadata": {},
   "outputs": [],
   "source": [
    "import matplotlib.pyplot as plt\n",
    "\n",
    "fig = plt.figure()\n",
    "plt.plot(test_v1['hidden_size'], test_v1['mean'])\n",
    "plt.plot(test_classical['hidden_size'], test_classical['mean'])\n",
    "plt.plot(test_incompatible['hidden_size'], test_incompatible['mean'])\n",
    "plt.xlim([0, 1000])"
   ]
  },
  {
   "cell_type": "code",
   "execution_count": 10,
   "id": "e994ddd9",
   "metadata": {},
   "outputs": [
    {
     "data": {
      "text/plain": [
       "[(1, 17.474),\n",
       " (2, 22.4712),\n",
       " (3, 28.695199999999996),\n",
       " (4, 33.611999999999995),\n",
       " (5, 38.1518),\n",
       " (6, 42.126599999999996),\n",
       " (7, 44.540000000000006),\n",
       " (8, 48.3404),\n",
       " (10, 54.38080000000001),\n",
       " (11, 56.6492),\n",
       " (13, 61.9426),\n",
       " (16, 66.3008),\n",
       " (19, 70.65579999999999),\n",
       " (22, 73.95700000000001),\n",
       " (26, 78.3766),\n",
       " (31, 81.35900000000001),\n",
       " (37, 84.5058),\n",
       " (43, 86.09259999999999),\n",
       " (51, 88.25580000000002),\n",
       " (61, 90.1274),\n",
       " (71, 91.27140000000001),\n",
       " (84, 92.09300000000002),\n",
       " (100, 92.9942),\n",
       " (117, 93.487),\n",
       " (138, 94.1768),\n",
       " (163, 94.64800000000001),\n",
       " (193, 95.05940000000001),\n",
       " (227, 95.4196),\n",
       " (268, 95.80359999999999),\n",
       " (316, 96.06880000000001),\n",
       " (372, 96.41019999999999)]"
      ]
     },
     "execution_count": 10,
     "metadata": {},
     "output_type": "execute_result"
    }
   ],
   "source": [
    "list(zip(test_v1['hidden_size'], test_v1['mean']))"
   ]
  },
  {
   "cell_type": "code",
   "execution_count": null,
   "id": "e0b347f8",
   "metadata": {},
   "outputs": [],
   "source": []
  }
 ],
 "metadata": {
  "kernelspec": {
   "display_name": "Python 3",
   "language": "python",
   "name": "python3"
  },
  "language_info": {
   "codemirror_mode": {
    "name": "ipython",
    "version": 3
   },
   "file_extension": ".py",
   "mimetype": "text/x-python",
   "name": "python",
   "nbconvert_exporter": "python",
   "pygments_lexer": "ipython3",
   "version": "3.8.10"
  }
 },
 "nbformat": 4,
 "nbformat_minor": 5
}
