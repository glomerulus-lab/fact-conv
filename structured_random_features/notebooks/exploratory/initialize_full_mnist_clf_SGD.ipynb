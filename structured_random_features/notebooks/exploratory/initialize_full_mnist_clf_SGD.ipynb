{
 "cells": [
  {
   "cell_type": "markdown",
   "metadata": {},
   "source": [
    "Initialize shallow feedforward fully-connected network with V1 type weights and classify __full mnist__ dataset using __Stochastic Gradient descent__."
   ]
  },
  {
   "cell_type": "code",
   "execution_count": null,
   "metadata": {},
   "outputs": [],
   "source": [
    "import numpy as np\n",
    "import matplotlib.pyplot as plt\n",
    "from data_fns import load_mnist\n",
    "from estimator import classical_weights, V1_inspired_weights\n",
    "import torch\n",
    "import torch.nn as nn\n",
    "from torch.utils.data import TensorDataset, DataLoader\n",
    "import pickle"
   ]
  },
  {
   "cell_type": "code",
   "execution_count": null,
   "metadata": {},
   "outputs": [],
   "source": [
    "# load data\n",
    "train, train_labels, test, test_labels = load_mnist('./data/mnist/')\n",
    "X_train = torch.from_numpy(train).float().to('cuda')\n",
    "y_train = torch.from_numpy(train_labels).long().to('cuda')\n",
    "X_test = torch.from_numpy(test).float().to('cuda')\n",
    "y_test = torch.from_numpy(test_labels).long().to('cuda')\n",
    "n, d = X_train.shape\n",
    "\n",
    "train_set = TensorDataset(X_train, y_train)\n",
    "train_loader = DataLoader(dataset=train_set, batch_size=1, shuffle=True)"
   ]
  },
  {
   "cell_type": "code",
   "execution_count": null,
   "metadata": {},
   "outputs": [],
   "source": [
    "class V1_net(nn.Module):\n",
    "    def __init__(self, hidden_size, scale):\n",
    "        super().__init__()\n",
    "        self.fc1 = nn.Linear(d, hidden_size)\n",
    "        self.fc1.weight.data = torch.FloatTensor(V1_inspired_weights(hidden_size, d, t=5, l=3, scale=scale))\n",
    "        self.output = nn.Linear(hidden_size, 10)\n",
    "        \n",
    "    def forward(self, inputs):\n",
    "        x = torch.relu(self.fc1(inputs))\n",
    "        return self.output(x)\n",
    "    \n",
    "class He_net(nn.Module):\n",
    "    def __init__(self, hidden_size, scale):\n",
    "        super().__init__()\n",
    "        self.fc1 = nn.Linear(d, hidden_size)\n",
    "        torch.nn.init.kaiming_normal_(self.fc1.weight)\n",
    "        self.output = nn.Linear(hidden_size, 10)\n",
    "        \n",
    "    def forward(self, inputs):\n",
    "        x = torch.relu(self.fc1(inputs))\n",
    "        return self.output(x)\n",
    "    \n",
    "class RF_net(nn.Module):\n",
    "    def __init__(self, hidden_size, scale):\n",
    "        super().__init__()\n",
    "        self.fc1 = nn.Linear(d, hidden_size)\n",
    "        self.fc1.weight.data = torch.FloatTensor(classical_weights(hidden_size, d, scale=scale))\n",
    "        self.output = nn.Linear(hidden_size, 10)\n",
    "        \n",
    "    def forward(self, inputs):\n",
    "        x = torch.relu(self.fc1(inputs))\n",
    "        return self.output(x)"
   ]
  },
  {
   "cell_type": "code",
   "execution_count": null,
   "metadata": {},
   "outputs": [],
   "source": [
    "def predict(model, X):\n",
    "    return model(X).data.max(1)[1]\n",
    "\n",
    "def error(model, X, y):\n",
    "    y_pred = predict(model, X)\n",
    "    accuracy = 1.0 * torch.sum(y_pred == y) / len(y)\n",
    "    return 1 - accuracy"
   ]
  },
  {
   "cell_type": "code",
   "execution_count": null,
   "metadata": {},
   "outputs": [],
   "source": [
    "n_trials, n_epochs = 5, 10\n",
    "models = {'V1': V1_net, 'He': He_net}\n",
    "h_list = [50, 100, 400, 1000]\n",
    "lr_list = [1e-3, 1e-2, 1e-1, 1e0]\n",
    "\n",
    "train_err = {m: {h: {lr: np.zeros((n_trials, n_epochs)) for lr in lr_list} for h in h_list} for m in models.keys()}\n",
    "test_err = {m: {h: {lr: np.zeros((n_trials, n_epochs)) for lr in lr_list} for h in h_list} for m in models.keys()}\n",
    "loss_list = {m: {h: {lr: np.zeros((n_trials, n_epochs)) for lr in lr_list} for h in h_list} for m in models.keys()}"
   ]
  },
  {
   "cell_type": "code",
   "execution_count": null,
   "metadata": {},
   "outputs": [],
   "source": [
    "scale = 2/d\n",
    "t, l = 5, 3\n",
    "loss_func = nn.CrossEntropyLoss()\n",
    "\n",
    "for h in h_list:\n",
    "    for lr in lr_list:\n",
    "        for m, network in models.items():\n",
    "            for i in range(n_trials):\n",
    "                model = network(h, scale).to('cuda')\n",
    "                optim = torch.optim.SGD(model.parameters(), lr=lr)\n",
    "                for j in range(n_epochs):\n",
    "                    for x_batch, y_batch in train_loader:\n",
    "                        optim.zero_grad()\n",
    "                        loss = loss_func(model(x_batch), y_batch)\n",
    "                        loss.backward()\n",
    "                        optim.step()\n",
    "\n",
    "                    train_err[m][h][lr][i, j] = error(model, X_train, y_train)\n",
    "                    test_err[m][h][lr][i, j] = error(model, X_test, y_test)\n",
    "                    loss_list[m][h][lr][i, j] = loss_func(model(X_train), y_train)\n",
    "\n",
    "                    if (j % 1 == 0):\n",
    "                        print('Trial %d, Epoch: %d, %s model, h=%d, lr=%0.5f, Loss=%0.5f, test err=%0.3f' % (i,j, m, h, lr, \n",
    "                                                                                                             loss_list[m][h][lr][i, j], \n",
    "                                                                                                            test_err[m][h][lr][i, j]))\n",
    "results = {'test_err': test_err, 'train_err': train_err, 'loss': loss_list}\n",
    "with open('results/initialize_mnist/full_data_SGD/clf_t=%0.2f_l=%0.2f.pickle' % (t, l), 'wb') as handle:\n",
    "    pickle.dump(results, handle, protocol=pickle.HIGHEST_PROTOCOL)"
   ]
  },
  {
   "cell_type": "markdown",
   "metadata": {},
   "source": [
    "# plot results"
   ]
  },
  {
   "cell_type": "code",
   "execution_count": null,
   "metadata": {},
   "outputs": [],
   "source": [
    "import pickle\n",
    "import numpy as np\n",
    "import matplotlib.pyplot as plt\n",
    "\n",
    "t, l, n_epochs= 5, 3, 3001\n",
    "models = ['V1', 'He']\n",
    "h_list = [50, 100, 400, 1000]\n",
    "lr_list = [1e-3, 1e-2, 1e-1, 1e0]\n",
    "\n",
    "for h in h_list:\n",
    "    for lr in lr_list:\n",
    "        with open('results/initialize_mnist/full_data_SGD/clf_t=%0.2f_l=%0.2f.pickle' % (t, l), 'rb') as handle:\n",
    "            sims = pickle.load(handle)\n",
    "\n",
    "        fig = plt.figure(figsize=(12, 5))\n",
    "        plt.suptitle(r'Shallow FFW FC net w/ SGD. h=%d, lr=%0.4f, '% (h, lr), fontsize=16)\n",
    "        \n",
    "        # loss\n",
    "        ax = fig.add_subplot(131)\n",
    "        plt.title('Network loss', fontsize=16)\n",
    "        for m in models:\n",
    "            avg_loss = np.mean(sims['loss'][m][h][lr], axis=0)\n",
    "            std_loss = np.std(sims['loss'][m][h][lr], axis=0)                       \n",
    "            plt.plot(np.arange(n_epochs), avg_loss, label=m, lw=3)\n",
    "            plt.fill_between(np.arange(n_epochs), avg_loss - std_loss, avg_loss + std_loss, alpha=0.2)\n",
    "        plt.xlabel('Epoch', fontsize=20)\n",
    "        plt.ylabel('Training loss', fontsize=20)\n",
    "        ax.tick_params(axis = 'both', which = 'major', labelsize = 14, width=2, length=6)\n",
    "        plt.yscale('log')\n",
    "        plt.legend(fontsize=18)\n",
    "        \n",
    "        # train err\n",
    "        ax = fig.add_subplot(132)\n",
    "        plt.title('Train error', fontsize=16)\n",
    "        for m in models:\n",
    "            avg_train_err = np.mean(sims['train_err'][m][h][lr], axis=0)\n",
    "            std_train_err = np.std(sims['train_err'][m][h][lr], axis=0)\n",
    "            plt.plot(np.arange(n_epochs), avg_train_err, label=m, lw=3)\n",
    "            plt.fill_between(np.arange(n_epochs), avg_train_err - std_train_err, avg_train_err + std_train_err,  alpha=0.2)\n",
    "        \n",
    "        plt.xlabel('Epoch', fontsize=20)\n",
    "        plt.ylabel('Training error', fontsize=20)\n",
    "        ax.tick_params(axis = 'both', which = 'major', labelsize = 14, width=2, length=6)\n",
    "        plt.yticks(np.arange(0, 1, 0.2))\n",
    "        plt.yscale('log')\n",
    "        plt.legend(fontsize=18)\n",
    "\n",
    "        # test err\n",
    "        ax = fig.add_subplot(133)\n",
    "        plt.title('Test error', fontsize=16)\n",
    "        for m in models:\n",
    "            avg_test_err = np.mean(sims['test_err'][m][h][lr], axis=0)\n",
    "            std_test_err = np.std(sims['test_err'][m][h][lr], axis=0)\n",
    "            plt.plot(np.arange(n_epochs), avg_test_err, label=m, lw=3)\n",
    "            plt.fill_between(np.arange(n_epochs), avg_test_err - std_test_err, avg_test_err + std_test_err, alpha=0.2)\n",
    "\n",
    "        plt.xlabel('Epoch', fontsize=20)\n",
    "        plt.ylabel('Test error', fontsize=20)\n",
    "        ax.tick_params(axis = 'both', which = 'major', labelsize = 14, width=2, length=6)\n",
    "        plt.yticks(np.arange(0, 1, 0.2))\n",
    "        plt.yscale('log')\n",
    "        plt.legend(fontsize=18)\n",
    "\n",
    "        plt.tight_layout()\n",
    "        plt.subplots_adjust(top=0.8)    \n",
    "\n",
    "        print(h, lr)\n",
    "        plt.savefig('results/initialize_mnist/full_data_SGD/init_t=%0.2f_l=%0.2f_h=%d_lr=%0.4f.png' % (t, l, h, lr))\n",
    "        plt.close()"
   ]
  },
  {
   "cell_type": "code",
   "execution_count": null,
   "metadata": {},
   "outputs": [],
   "source": [
    "!nvidia-smi"
   ]
  },
  {
   "cell_type": "code",
   "execution_count": null,
   "metadata": {},
   "outputs": [],
   "source": []
  }
 ],
 "metadata": {
  "kernelspec": {
   "display_name": "Python 3",
   "language": "python",
   "name": "python3"
  },
  "language_info": {
   "codemirror_mode": {
    "name": "ipython",
    "version": 3
   },
   "file_extension": ".py",
   "mimetype": "text/x-python",
   "name": "python",
   "nbconvert_exporter": "python",
   "pygments_lexer": "ipython3",
   "version": "3.8.10"
  }
 },
 "nbformat": 4,
 "nbformat_minor": 4
}
