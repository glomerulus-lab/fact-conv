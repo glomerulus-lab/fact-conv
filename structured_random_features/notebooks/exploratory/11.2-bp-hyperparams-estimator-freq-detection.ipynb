{
 "cells": [
  {
   "cell_type": "code",
   "execution_count": 1,
   "id": "4b248c37-0451-4153-b7a7-e5de787315bb",
   "metadata": {},
   "outputs": [],
   "source": [
    "from os import getcwd\n",
    "from os.path import abspath, join\n",
    "\n",
    "from copy import deepcopy\n",
    "from joblib import parallel_backend\n",
    "import matplotlib.pyplot as plt\n",
    "import numpy as np\n",
    "import pickle\n",
    "from sklearn.model_selection import train_test_split, cross_val_score\n",
    "from sklearn.svm import LinearSVC\n",
    "from tqdm import tqdm\n",
    "\n",
    "from src.data.load_dataset import generate_frequency_detection\n",
    "from src.models.estimator import RFClassifier, relu\n",
    "from src.models.weights import sensilla_weights"
   ]
  },
  {
   "cell_type": "code",
   "execution_count": 2,
   "id": "d0a26bc6-5025-4c21-8479-80009dc6be66",
   "metadata": {},
   "outputs": [],
   "source": [
    "data_dir = abspath(join(getcwd(), '../../'))"
   ]
  },
  {
   "cell_type": "code",
   "execution_count": 33,
   "id": "7065e73f-026f-4e04-8d28-fca062131773",
   "metadata": {},
   "outputs": [],
   "source": [
    "# load data\n",
    "num_samples, sampling_rate, duration, freq, snr, seed = 7000, 2000, 0.1, 50, 0.8, 5\n",
    "X, y = generate_frequency_detection(num_samples, sampling_rate, freq, duration, snr, seed)\n",
    "X_train, X_test, y_train, y_test = train_test_split(X, y, train_size=0.8, stratify=y)\n",
    "\n",
    "# params\n",
    "h = 20\n",
    "bias = 0\n",
    "nonlinearity = relu\n",
    "scale = 1\n",
    "center = None\n",
    "clf = LinearSVC(tol=1e-4, max_iter=1000)\n",
    "n_jobs=5\n",
    "cv = 3"
   ]
  },
  {
   "cell_type": "markdown",
   "id": "57d33dcb-f74a-4d7b-abd7-a7256cbe361d",
   "metadata": {},
   "source": [
    "#### Cross-val parameters\n",
    "- Frequency: 10Hz to 200 Hz in increments of 10 Hz\n",
    "- decay_coef: 10ms to 100ms in increments of 10 ms"
   ]
  },
  {
   "cell_type": "code",
   "execution_count": 58,
   "id": "f86541e1-9bdf-4c4e-8fec-9b18215f53f2",
   "metadata": {},
   "outputs": [],
   "source": [
    "# estimator params\n",
    "decay_coef = np.arange(0.01, duration + 0.01, 0.01)\n",
    "params = []\n",
    "for lowcut in range(10, 200, 10):\n",
    "    for highcut in range(lowcut + 10, 210, 10):\n",
    "        for d in decay_coef:\n",
    "            params.append([lowcut, highcut, round(d, 2)])\n",
    "params = np.array(params)"
   ]
  },
  {
   "cell_type": "code",
   "execution_count": 59,
   "id": "42c30ccd-731b-4814-83f4-446dfdc363d1",
   "metadata": {},
   "outputs": [
    {
     "name": "stderr",
     "output_type": "stream",
     "text": [
      "100%|██████████| 1900/1900 [10:03<00:00,  3.15it/s]\n"
     ]
    }
   ],
   "source": [
    "# cross-validate\n",
    "accuracy = np.zeros((len(params), cv))\n",
    "for i, [lowcut, highcut, gamma] in enumerate(tqdm(params)):\n",
    "    kwargs = {'sampling_rate':sampling_rate, 'duration':duration, 'lowcut':lowcut, 'highcut':highcut, \n",
    "              'decay_coef':gamma, 'scale': scale}\n",
    "    sensilla_clf = RFClassifier(h, sensilla_weights, bias, nonlinearity, deepcopy(clf), kwargs)\n",
    "    scores = cross_val_score(sensilla_clf, X_train, y_train, cv=cv, n_jobs=n_jobs, verbose=0)\n",
    "    accuracy[i] = scores\n",
    "    \n",
    "    # save results iteratively\n",
    "    param_study = {'lowcut': params[:, 0], 'highcut': params[:, 1],  'gamma': params[:, 2], 'scores': accuracy}\n",
    "    with open(data_dir + '/models/results/freq_detection/freq_detection_param_study_estimator.pickle', 'wb') as file:\n",
    "        pickle.dump(param_study, file)"
   ]
  },
  {
   "cell_type": "code",
   "execution_count": 83,
   "id": "4255ee46-bb23-46c2-9624-b7914cc2567d",
   "metadata": {},
   "outputs": [
    {
     "name": "stdout",
     "output_type": "stream",
     "text": [
      "10.0 60.0 0.05 1.0\n"
     ]
    }
   ],
   "source": [
    "with open(data_dir + '/models/results/freq_detection/freq_detection_param_study_estimator.pickle', 'rb') as file:\n",
    "    study = pickle.load(file)\n",
    "    \n",
    "mean = np.mean(study['scores'], axis=1)\n",
    "# print largest sum\n",
    "idx = np.argmax(mean)\n",
    "print(study['lowcut'][idx], study['highcut'][idx], study['gamma'][idx], mean[idx])"
   ]
  },
  {
   "cell_type": "code",
   "execution_count": 90,
   "id": "6aa2bd73-bed2-4e67-bfdb-128ccd2630f2",
   "metadata": {},
   "outputs": [
    {
     "data": {
      "text/plain": [
       "[<matplotlib.lines.Line2D at 0x7f75af8d3f10>]"
      ]
     },
     "execution_count": 90,
     "metadata": {},
     "output_type": "execute_result"
    },
    {
     "data": {
      "image/png": "[encoded data removed]",
      "text/plain": [
       "<Figure size 432x288 with 1 Axes>"
      ]
     },
     "metadata": {
      "needs_background": "light"
     },
     "output_type": "display_data"
    }
   ],
   "source": [
    "idx = np.logical_and(study['lowcut'] < 50, study['highcut'] < 50)\n",
    "plt.plot(study['highcut'][idx], mean[idx], 'o')"
   ]
  },
  {
   "cell_type": "code",
   "execution_count": 87,
   "id": "2d4f1ac4-65f0-49c2-89e9-e3449db20b22",
   "metadata": {},
   "outputs": [
    {
     "data": {
      "text/plain": [
       "[<matplotlib.lines.Line2D at 0x7f75afa1b4f0>]"
      ]
     },
     "execution_count": 87,
     "metadata": {},
     "output_type": "execute_result"
    },
    {
     "data": {
      "image/png": "[encoded data removed]",
      "text/plain": [
       "<Figure size 432x288 with 1 Axes>"
      ]
     },
     "metadata": {
      "needs_background": "light"
     },
     "output_type": "display_data"
    }
   ],
   "source": [
    "plt.plot(study['highcut'], mean, 'o')"
   ]
  },
  {
   "cell_type": "code",
   "execution_count": null,
   "id": "430e289b-6fbd-45fc-ae84-c71ce392e853",
   "metadata": {},
   "outputs": [],
   "source": []
  }
 ],
 "metadata": {
  "kernelspec": {
   "display_name": "Python 3",
   "language": "python",
   "name": "python3"
  },
  "language_info": {
   "codemirror_mode": {
    "name": "ipython",
    "version": 3
   },
   "file_extension": ".py",
   "mimetype": "text/x-python",
   "name": "python",
   "nbconvert_exporter": "python",
   "pygments_lexer": "ipython3",
   "version": "3.8.10"
  }
 },
 "nbformat": 4,
 "nbformat_minor": 5
}
