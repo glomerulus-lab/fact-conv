{
 "cells": [
  {
   "cell_type": "markdown",
   "metadata": {},
   "source": [
    "Initialize shallow feedforward fully-connected network with V1 type weights and classify __full kuzushizi mnist__ dataset using __Gradient descent__."
   ]
  },
  {
   "cell_type": "code",
   "execution_count": 2,
   "metadata": {},
   "outputs": [],
   "source": [
    "import numpy as np\n",
    "import numpy.linalg as la\n",
    "import matplotlib.pyplot as plt\n",
    "import torch\n",
    "import torch.nn as nn\n",
    "from data_fns import load_kmnist\n",
    "from estimator import classical_weights, V1_inspired_weights\n",
    "import pickle"
   ]
  },
  {
   "cell_type": "code",
   "execution_count": 3,
   "metadata": {},
   "outputs": [],
   "source": [
    "torch.cuda.set_device(1)\n",
    "train, train_labels, test, test_labels = load_kmnist('./data/kmnist/')\n",
    "X_train = torch.from_numpy(train).float().to('cuda')\n",
    "X_test = torch.from_numpy(test).float().to('cuda')\n",
    "y_train = torch.from_numpy(train_labels).long().to('cuda')\n",
    "y_test = torch.from_numpy(test_labels).long().to('cuda')\n",
    "n, d = X_train.shape"
   ]
  },
  {
   "cell_type": "code",
   "execution_count": 4,
   "metadata": {},
   "outputs": [],
   "source": [
    "class V1_net(nn.Module):\n",
    "    def __init__(self, hidden_size, scale):\n",
    "        super().__init__()\n",
    "        self.fc1 = nn.Linear(d, hidden_size)\n",
    "        self.fc1.weight.data = torch.FloatTensor(V1_inspired_weights(hidden_size, d, t=0.5, l=0.5, scale=scale))\n",
    "        self.output = nn.Linear(hidden_size, 10)\n",
    "        \n",
    "    def forward(self, inputs):\n",
    "        x = torch.relu(self.fc1(inputs))\n",
    "        return self.output(x)\n",
    "    \n",
    "class He_net(nn.Module):\n",
    "    def __init__(self, hidden_size, scale):\n",
    "        super().__init__()\n",
    "        self.fc1 = nn.Linear(d, hidden_size)\n",
    "        torch.nn.init.kaiming_normal_(self.fc1.weight)\n",
    "        self.output = nn.Linear(hidden_size, 10)\n",
    "        \n",
    "    def forward(self, inputs):\n",
    "        x = torch.relu(self.fc1(inputs))\n",
    "        return self.output(x)\n",
    "    \n",
    "class RF_net(nn.Module):\n",
    "    def __init__(self, hidden_size, scale):\n",
    "        super().__init__()\n",
    "        self.fc1 = nn.Linear(d, hidden_size)\n",
    "        self.fc1.weight.data = torch.FloatTensor(classical_weights(hidden_size, d, scale=scale))\n",
    "        self.output = nn.Linear(hidden_size, 10)\n",
    "        \n",
    "    def forward(self, inputs):\n",
    "        x = torch.relu(self.fc1(inputs))\n",
    "        return self.output(x)"
   ]
  },
  {
   "cell_type": "code",
   "execution_count": 5,
   "metadata": {},
   "outputs": [],
   "source": [
    "def predict(model, X):\n",
    "    return model(X).data.max(1)[1]\n",
    "\n",
    "def error(model, X, y):\n",
    "    y_pred = predict(model, X)\n",
    "    accuracy = 1.0 * torch.sum(y_pred == y) / len(y)\n",
    "    return 1 - accuracy"
   ]
  },
  {
   "cell_type": "code",
   "execution_count": 6,
   "metadata": {},
   "outputs": [
    {
     "name": "stdout",
     "output_type": "stream",
     "text": [
      "V1 tensor(1.2200)\n",
      "He tensor(1.4108)\n",
      "RF tensor(1.4120)\n"
     ]
    }
   ],
   "source": [
    "V1_model = V1_net(100, 2/d)\n",
    "RF_model = RF_net(100, 2/d)\n",
    "He_model= He_net(100, 2/d)\n",
    "print('V1', torch.mean(torch.norm(V1_model.fc1.weight.data, dim=1)))\n",
    "print('He', torch.mean(torch.norm(He_model.fc1.weight.data, dim=1)))\n",
    "print('RF', torch.mean(torch.norm(RF_model.fc1.weight.data, dim=1)))\n",
    "w = torch.mean(torch.norm(RF_model.fc1.weight.data, dim=1))"
   ]
  },
  {
   "cell_type": "code",
   "execution_count": 7,
   "metadata": {},
   "outputs": [],
   "source": [
    "n_trials, n_epochs = 10, 3001\n",
    "models = {'V1': V1_net, 'He': He_net}\n",
    "h_list = [50, 100, 400, 1000]\n",
    "lr_list = [1e-3, 1e-2, 1e-1, 1e0]\n",
    "\n",
    "train_err = {m: {h: {lr: np.zeros((n_trials, n_epochs)) for lr in lr_list} for h in h_list} for m in models.keys()}\n",
    "test_err = {m: {h: {lr: np.zeros((n_trials, n_epochs)) for lr in lr_list} for h in h_list} for m in models.keys()}\n",
    "loss_list = {m: {h: {lr: np.zeros((n_trials, n_epochs)) for lr in lr_list} for h in h_list} for m in models.keys()}"
   ]
  },
  {
   "cell_type": "code",
   "execution_count": null,
   "metadata": {},
   "outputs": [
    {
     "name": "stdout",
     "output_type": "stream",
     "text": [
      "Trial 0, Epoch: 0, V1 model, h=50, lr=0.00100, Loss=2.32961, test err=0.898\n",
      "Trial 0, Epoch: 1000, V1 model, h=50, lr=0.00100, Loss=2.13892, test err=0.710\n",
      "Trial 0, Epoch: 2000, V1 model, h=50, lr=0.00100, Loss=1.91218, test err=0.582\n",
      "Trial 0, Epoch: 3000, V1 model, h=50, lr=0.00100, Loss=1.67311, test err=0.536\n",
      "Trial 1, Epoch: 0, V1 model, h=50, lr=0.00100, Loss=2.32674, test err=0.933\n",
      "Trial 1, Epoch: 1000, V1 model, h=50, lr=0.00100, Loss=2.08607, test err=0.714\n",
      "Trial 1, Epoch: 2000, V1 model, h=50, lr=0.00100, Loss=1.83536, test err=0.596\n",
      "Trial 1, Epoch: 3000, V1 model, h=50, lr=0.00100, Loss=1.60096, test err=0.526\n",
      "Trial 2, Epoch: 0, V1 model, h=50, lr=0.00100, Loss=2.32431, test err=0.907\n",
      "Trial 2, Epoch: 1000, V1 model, h=50, lr=0.00100, Loss=2.08352, test err=0.687\n",
      "Trial 2, Epoch: 2000, V1 model, h=50, lr=0.00100, Loss=1.83495, test err=0.567\n",
      "Trial 2, Epoch: 3000, V1 model, h=50, lr=0.00100, Loss=1.60229, test err=0.507\n",
      "Trial 3, Epoch: 0, V1 model, h=50, lr=0.00100, Loss=2.29764, test err=0.874\n",
      "Trial 3, Epoch: 1000, V1 model, h=50, lr=0.00100, Loss=2.07598, test err=0.716\n",
      "Trial 3, Epoch: 2000, V1 model, h=50, lr=0.00100, Loss=1.84298, test err=0.605\n",
      "Trial 3, Epoch: 3000, V1 model, h=50, lr=0.00100, Loss=1.62262, test err=0.539\n",
      "Trial 4, Epoch: 0, V1 model, h=50, lr=0.00100, Loss=2.36102, test err=0.900\n",
      "Trial 4, Epoch: 1000, V1 model, h=50, lr=0.00100, Loss=2.09573, test err=0.691\n",
      "Trial 4, Epoch: 2000, V1 model, h=50, lr=0.00100, Loss=1.83062, test err=0.578\n",
      "Trial 4, Epoch: 3000, V1 model, h=50, lr=0.00100, Loss=1.58929, test err=0.528\n",
      "Trial 5, Epoch: 0, V1 model, h=50, lr=0.00100, Loss=2.31574, test err=0.885\n",
      "Trial 5, Epoch: 1000, V1 model, h=50, lr=0.00100, Loss=2.02791, test err=0.735\n",
      "Trial 5, Epoch: 2000, V1 model, h=50, lr=0.00100, Loss=1.76020, test err=0.572\n",
      "Trial 5, Epoch: 3000, V1 model, h=50, lr=0.00100, Loss=1.53639, test err=0.522\n",
      "Trial 6, Epoch: 0, V1 model, h=50, lr=0.00100, Loss=2.33315, test err=0.935\n",
      "Trial 6, Epoch: 1000, V1 model, h=50, lr=0.00100, Loss=2.12094, test err=0.732\n",
      "Trial 6, Epoch: 2000, V1 model, h=50, lr=0.00100, Loss=1.88565, test err=0.604\n",
      "Trial 6, Epoch: 3000, V1 model, h=50, lr=0.00100, Loss=1.65426, test err=0.538\n",
      "Trial 7, Epoch: 0, V1 model, h=50, lr=0.00100, Loss=2.26811, test err=0.854\n",
      "Trial 7, Epoch: 1000, V1 model, h=50, lr=0.00100, Loss=2.02543, test err=0.675\n",
      "Trial 7, Epoch: 2000, V1 model, h=50, lr=0.00100, Loss=1.78727, test err=0.574\n",
      "Trial 7, Epoch: 3000, V1 model, h=50, lr=0.00100, Loss=1.58254, test err=0.533\n",
      "Trial 8, Epoch: 0, V1 model, h=50, lr=0.00100, Loss=2.33678, test err=0.910\n",
      "Trial 8, Epoch: 1000, V1 model, h=50, lr=0.00100, Loss=2.07744, test err=0.735\n",
      "Trial 8, Epoch: 2000, V1 model, h=50, lr=0.00100, Loss=1.81681, test err=0.594\n",
      "Trial 8, Epoch: 3000, V1 model, h=50, lr=0.00100, Loss=1.58385, test err=0.547\n",
      "Trial 9, Epoch: 0, V1 model, h=50, lr=0.00100, Loss=2.34361, test err=0.925\n",
      "Trial 9, Epoch: 1000, V1 model, h=50, lr=0.00100, Loss=2.10767, test err=0.761\n"
     ]
    }
   ],
   "source": [
    "scale = 2/d\n",
    "t, l = 0.5, 0.5\n",
    "loss_func = nn.CrossEntropyLoss()\n",
    "\n",
    "for h in h_list:\n",
    "    for lr in lr_list:\n",
    "        for m, network in models.items():\n",
    "            for i in range(n_trials):\n",
    "                model = network(h, scale).to('cuda')\n",
    "                optim = torch.optim.SGD(model.parameters(), lr=lr)\n",
    "                for j in range(n_epochs):\n",
    "                    optim.zero_grad()\n",
    "                    loss = loss_func(model(X_train), y_train)\n",
    "                    loss.backward()\n",
    "                    optim.step()\n",
    "\n",
    "                    train_err[m][h][lr][i, j] = error(model, X_train, y_train)\n",
    "                    test_err[m][h][lr][i, j] = error(model, X_test, y_test)\n",
    "                    loss_list[m][h][lr][i, j] = loss.data\n",
    "\n",
    "                    if (j % 1000 == 0):\n",
    "                        print('Trial %d, Epoch: %d, %s model, h=%d, lr=%0.5f, Loss=%0.5f, test err=%0.3f' % (i,j, m, h, lr, loss.data, \n",
    "                                                                                                  test_err[m][h][lr][i, j]))\n",
    "results = {'test_err': test_err, 'train_err': train_err, 'loss': loss_list}\n",
    "with open('results/initialize_kmnist/full_data/clf_t=%0.2f_l=%0.2f.pickle' % (t, l), 'wb') as handle:\n",
    "    pickle.dump(results, handle, protocol=pickle.HIGHEST_PROTOCOL)"
   ]
  },
  {
   "cell_type": "markdown",
   "metadata": {},
   "source": [
    "## plot results"
   ]
  },
  {
   "cell_type": "code",
   "execution_count": null,
   "metadata": {},
   "outputs": [],
   "source": [
    "import pickle\n",
    "import numpy as np\n",
    "import matplotlib.pyplot as plt\n",
    "\n",
    "t, l, n_epochs= 5, 2, 3001\n",
    "models = ['V1', 'He']\n",
    "h_list = [50, 100, 400, 1000]\n",
    "lr_list = [1e-3, 1e-2, 1e-1, 1e0]\n",
    "\n",
    "for h in h_list:\n",
    "    for lr in lr_list:\n",
    "        with open('results/initialize_kmnist/full_data/clf_t=%0.2f_l=%0.2f.pickle' % (t, l), 'rb') as handle:\n",
    "            sims = pickle.load(handle)\n",
    "\n",
    "        fig = plt.figure(figsize=(12, 5))\n",
    "        plt.suptitle(r'Shallow FFW FC net w/ GD. h=%d, lr=%0.4f, '% (h, lr), fontsize=16)\n",
    "        \n",
    "        # loss\n",
    "        ax = fig.add_subplot(131)\n",
    "        plt.title('Network loss', fontsize=16)\n",
    "        for m in models:\n",
    "            avg_loss = np.mean(sims['loss'][m][h][lr], axis=0)\n",
    "            std_loss = np.std(sims['loss'][m][h][lr], axis=0)                       \n",
    "            plt.plot(np.arange(n_epochs), avg_loss, label=m, lw=3)\n",
    "            plt.fill_between(np.arange(n_epochs), avg_loss - std_loss, avg_loss + std_loss, alpha=0.2)\n",
    "        plt.xlabel('Epoch', fontsize=20)\n",
    "        plt.ylabel('Training loss', fontsize=20)\n",
    "        ax.tick_params(axis = 'both', which = 'major', labelsize = 14, width=2, length=6)\n",
    "        plt.yscale('log')\n",
    "        plt.legend(fontsize=18)\n",
    "        \n",
    "        # train err\n",
    "        ax = fig.add_subplot(132)\n",
    "        plt.title('Train error', fontsize=16)\n",
    "        for m in models:\n",
    "            avg_train_err = np.mean(sims['train_err'][m][h][lr], axis=0)\n",
    "            std_train_err = np.std(sims['train_err'][m][h][lr], axis=0)\n",
    "            plt.plot(np.arange(n_epochs), avg_train_err, label=m, lw=3)\n",
    "            plt.fill_between(np.arange(n_epochs), avg_train_err - std_train_err, avg_train_err + std_train_err,  alpha=0.2)\n",
    "        \n",
    "        plt.xlabel('Epoch', fontsize=20)\n",
    "        plt.ylabel('Training error', fontsize=20)\n",
    "        ax.tick_params(axis = 'both', which = 'major', labelsize = 14, width=2, length=6)\n",
    "        plt.yticks(np.arange(0, 1, 0.2))\n",
    "        plt.yscale('log')\n",
    "        plt.legend(fontsize=18)\n",
    "\n",
    "        # test err\n",
    "        ax = fig.add_subplot(133)\n",
    "        plt.title('Test error', fontsize=16)\n",
    "        for m in models:\n",
    "            avg_test_err = np.mean(sims['test_err'][m][h][lr], axis=0)\n",
    "            std_test_err = np.std(sims['test_err'][m][h][lr], axis=0)\n",
    "            plt.plot(np.arange(n_epochs), avg_test_err, label=m, lw=3)\n",
    "            plt.fill_between(np.arange(n_epochs), avg_test_err - std_test_err, avg_test_err + std_test_err, alpha=0.2)\n",
    "\n",
    "        plt.xlabel('Epoch', fontsize=20)\n",
    "        plt.ylabel('Test error', fontsize=20)\n",
    "        ax.tick_params(axis = 'both', which = 'major', labelsize = 14, width=2, length=6)\n",
    "        plt.yticks(np.arange(0, 1, 0.2))\n",
    "        plt.yscale('log')\n",
    "        plt.legend(fontsize=18)\n",
    "\n",
    "        plt.tight_layout()\n",
    "        plt.subplots_adjust(top=0.8)    \n",
    "\n",
    "        print(h, lr)\n",
    "        plt.savefig('results/initialize_kmnist/full_data/init_t=%0.2f_l=%0.2f_h=%d_lr=%0.4f.png' % (t, l, h, lr))\n",
    "        plt.close()"
   ]
  },
  {
   "cell_type": "markdown",
   "metadata": {},
   "source": [
    "## Test the speed of training networks on GPUs vs CPU"
   ]
  },
  {
   "cell_type": "code",
   "execution_count": null,
   "metadata": {},
   "outputs": [],
   "source": [
    "import numpy as np\n",
    "import numpy.linalg as la\n",
    "import matplotlib.pyplot as plt\n",
    "import torch\n",
    "import torch.nn as nn\n",
    "from estimator import classical_weights, V1_inspired_weights\n",
    "from data_fns import load_kmnist"
   ]
  },
  {
   "cell_type": "code",
   "execution_count": null,
   "metadata": {},
   "outputs": [],
   "source": [
    "torch.cuda.set_device(0)\n",
    "train, train_labels, test, test_labels = load_kmnist('./data/kmnist/')\n",
    "X_train = torch.from_numpy(train).float().to('cuda')\n",
    "X_test = torch.from_numpy(test).float().to('cuda')\n",
    "y_train = torch.from_numpy(train_labels).long().to('cuda')\n",
    "y_test = torch.from_numpy(test_labels).long().to('cuda')\n",
    "n, d = X_train.shape"
   ]
  },
  {
   "cell_type": "code",
   "execution_count": null,
   "metadata": {},
   "outputs": [],
   "source": [
    "class V1_net(nn.Module):\n",
    "    def __init__(self, hidden_size, scale):\n",
    "        super().__init__()\n",
    "        self.fc1 = nn.Linear(d, hidden_size)\n",
    "        self.fc1.weight.data = torch.FloatTensor(V1_inspired_weights(hidden_size, d, t=5, l=2, scale=scale))\n",
    "        self.output = nn.Linear(hidden_size, 10)\n",
    "        \n",
    "    def forward(self, inputs):\n",
    "        x = torch.relu(self.fc1(inputs))\n",
    "        return self.output(x)\n",
    "    \n",
    "class He_net(nn.Module):\n",
    "    def __init__(self, hidden_size, scale):\n",
    "        super().__init__()\n",
    "        self.fc1 = nn.Linear(d, hidden_size)\n",
    "        torch.nn.init.kaiming_normal_(self.fc1.weight)\n",
    "        self.output = nn.Linear(hidden_size, 10)\n",
    "        \n",
    "    def forward(self, inputs):\n",
    "        x = torch.relu(self.fc1(inputs))\n",
    "        return self.output(x)   \n",
    "    \n",
    "    \n",
    "def predict(model, X):\n",
    "    return model(X).data.max(1)[1]\n",
    "\n",
    "def error(model, X, y):\n",
    "    y_pred = predict(model, X)\n",
    "    accuracy = 1.0 * torch.sum(y_pred == y) / len(y)\n",
    "    return 1 - accuracy"
   ]
  },
  {
   "cell_type": "code",
   "execution_count": null,
   "metadata": {},
   "outputs": [],
   "source": [
    "%%time\n",
    "## Run on GPU\n",
    "h, lr, scale = 500, 1, 2/d\n",
    "n_epochs = 2001\n",
    "model = V1_net(h, scale=scale).to('cuda')\n",
    "loss_func = nn.CrossEntropyLoss()\n",
    "optim = torch.optim.SGD(model.parameters(), lr=lr)\n",
    "\n",
    "test_err_list_V1 = []\n",
    "for i in range(n_epochs):\n",
    "    optim.zero_grad()\n",
    "    loss = loss_func(model(X_train), y_train)\n",
    "    loss.backward()\n",
    "    optim.step()\n",
    "    \n",
    "    train_err = error(model, X_train, y_train)\n",
    "    test_err = error(model, X_test, y_test)\n",
    "    test_err_list_V1.append(test_err)\n",
    "    \n",
    "    if (i % 200 == 0):\n",
    "        print('Epoch: %d, Loss=%0.5f, train_err=%0.5f, test_err=%0.5f' % (i, loss.data, train_err, test_err))"
   ]
  },
  {
   "cell_type": "code",
   "execution_count": null,
   "metadata": {},
   "outputs": [],
   "source": [
    "%%time\n",
    "## Run on GPU\n",
    "h, lr, scale = 500, 1, 2/d\n",
    "n_epochs = 2001\n",
    "model = He_net(h, scale=scale).to('cuda')\n",
    "loss_func = nn.CrossEntropyLoss()\n",
    "optim = torch.optim.SGD(model.parameters(), lr=lr)\n",
    "\n",
    "test_err_list_He = []\n",
    "for i in range(n_epochs):\n",
    "    optim.zero_grad()\n",
    "    loss = loss_func(model(X_train), y_train)\n",
    "    loss.backward()\n",
    "    optim.step()\n",
    "    \n",
    "    train_err = error(model, X_train, y_train)\n",
    "    test_err = error(model, X_test, y_test)\n",
    "    test_err_list_He.append(test_err)\n",
    "    \n",
    "    if (i % 200 == 0):\n",
    "        print('Epoch: %d, Loss=%0.5f, train_err=%0.5f, test_err=%0.5f' % (i, loss.data, train_err, test_err))"
   ]
  },
  {
   "cell_type": "code",
   "execution_count": null,
   "metadata": {},
   "outputs": [],
   "source": [
    "fig = plt.figure()\n",
    "plt.plot(np.arange(n_epochs), test_err_list_V1, label='V1')\n",
    "plt.plot(np.arange(n_epochs), test_err_list_He, label='He')\n",
    "plt.yscale('log')\n",
    "plt.legend()"
   ]
  },
  {
   "cell_type": "code",
   "execution_count": null,
   "metadata": {},
   "outputs": [],
   "source": [
    "ls data/"
   ]
  },
  {
   "cell_type": "code",
   "execution_count": null,
   "metadata": {},
   "outputs": [],
   "source": []
  }
 ],
 "metadata": {
  "kernelspec": {
   "display_name": "Python 3",
   "language": "python",
   "name": "python3"
  },
  "language_info": {
   "codemirror_mode": {
    "name": "ipython",
    "version": 3
   },
   "file_extension": ".py",
   "mimetype": "text/x-python",
   "name": "python",
   "nbconvert_exporter": "python",
   "pygments_lexer": "ipython3",
   "version": "3.8.10"
  }
 },
 "nbformat": 4,
 "nbformat_minor": 4
}
