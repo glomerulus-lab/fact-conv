{
 "cells": [
  {
   "cell_type": "code",
   "execution_count": 16,
   "id": "c5085206",
   "metadata": {},
   "outputs": [],
   "source": [
    "import os \n",
    "import os.path as path\n",
    "\n",
    "import matplotlib.pyplot as plt\n",
    "import numpy as np\n",
    "import pickle\n",
    "import torch\n",
    "import torch.nn as nn\n",
    "import torch.optim as optim\n",
    "from tqdm import tqdm\n",
    "\n",
    "\n",
    "from src.data.load_dataset import load_frequency_XOR\n",
    "from src.models.networks import sensilla_RFNet, classical_RFNet\n",
    "from src.models.utils import train, test"
   ]
  },
  {
   "cell_type": "code",
   "execution_count": 2,
   "id": "bcf70977",
   "metadata": {},
   "outputs": [],
   "source": [
    "device = torch.device(\"cuda\" if torch.cuda.is_available() else \"cpu\")"
   ]
  },
  {
   "cell_type": "code",
   "execution_count": 3,
   "id": "ba9f1f2d",
   "metadata": {},
   "outputs": [],
   "source": [
    "# load data\n",
    "num_samples, sampling_rate, duration, freq1, freq2, snr, seed = 7000, 1500, 0.1, 5, 8, 0.8, 5\n",
    "train_batch_size, train_percentage = 2048, 0.8\n",
    "train_loader, val_loader, test_loader = load_frequency_XOR(num_samples, sampling_rate, freq1, freq2,\n",
    "                                                           duration, snr, \n",
    "                                                           train_batch_size, train_percentage, seed)"
   ]
  },
  {
   "cell_type": "markdown",
   "id": "2f02ab15",
   "metadata": {},
   "source": [
    "#### Mechanosensory RFNet with $\\omega_a=30$ Hz, $\\omega_b = 130$ Hz, \\& $\\gamma=6$"
   ]
  },
  {
   "cell_type": "code",
   "execution_count": null,
   "id": "5a828cad",
   "metadata": {},
   "outputs": [
    {
     "name": "stderr",
     "output_type": "stream",
     "text": [
      "  2%|▏         | 1/43 [00:58<41:08, 58.77s/it]"
     ]
    }
   ],
   "source": [
    "num_neurons = sorted(set(np.logspace(0, 3.4, 50).astype('int')))\n",
    "inp_size = int(sampling_rate * duration)\n",
    "omega_a, omega_b, gamma = 3, 13, 6\n",
    "lr = 0.01\n",
    "num_epochs = 30\n",
    "log_interval = 100\n",
    "\n",
    "test_sensilla = {'hidden_size': [], 'mean': [], 'std': []}\n",
    "for hidden_size in tqdm(num_neurons):\n",
    "    accuracy = []\n",
    "    for trial in range(50):\n",
    "        model = sensilla_RFNet(inp_size, hidden_size, \n",
    "                                 omega_a, omega_b, gamma).to(device)\n",
    "        optimizer = optim.SGD(model.parameters(), lr=lr)\n",
    "\n",
    "        for epoch in range(num_epochs):\n",
    "            _ = train(log_interval, device, model, train_loader, optimizer, epoch, verbose=False)\n",
    "        accuracy.append(test(model, device, test_loader, verbose=False))\n",
    "        \n",
    "    test_sensilla['hidden_size'].append(hidden_size)\n",
    "    test_sensilla['mean'].append(np.mean(accuracy))\n",
    "    test_sensilla['std'].append(np.std(accuracy))"
   ]
  },
  {
   "cell_type": "markdown",
   "id": "be14c775",
   "metadata": {},
   "source": [
    "#### Classical RFNet"
   ]
  },
  {
   "cell_type": "code",
   "execution_count": null,
   "id": "dd8cca16",
   "metadata": {},
   "outputs": [],
   "source": [
    "num_neurons = sorted(set(np.logspace(0, 3.4, 50).astype('int')))\n",
    "inp_size = int(sampling_rate * duration)\n",
    "lr = 0.01\n",
    "num_epochs = 30\n",
    "log_interval = 100\n",
    "\n",
    "test_classical = {'hidden_size': [], 'mean': [], 'std': []} \n",
    "for hidden_size in tqdm(num_neurons):\n",
    "    accuracy = []\n",
    "    for trial in range(50):\n",
    "        model = classical_RFNet(inp_size, hidden_size).to(device)\n",
    "        optimizer = optim.SGD(model.parameters(), lr=lr)\n",
    "\n",
    "        for epoch in range(num_epochs):\n",
    "            _ = train(log_interval, device, model, train_loader, optimizer, epoch, verbose=False)\n",
    "        accuracy.append(test(model, device, test_loader, verbose=False))\n",
    "\n",
    "    test_classical['hidden_size'].append(hidden_size)\n",
    "    test_classical['mean'].append(np.mean(accuracy))\n",
    "    test_classical['std'].append(np.std(accuracy))"
   ]
  },
  {
   "cell_type": "markdown",
   "id": "f9acc146",
   "metadata": {},
   "source": [
    "#### Mechanosensory RFNet with incompatible parameters: $\\omega_a=70$ Hz, $\\omega_b = 130$ Hz, \\& $\\gamma=6$"
   ]
  },
  {
   "cell_type": "code",
   "execution_count": 12,
   "id": "2bc4326a",
   "metadata": {},
   "outputs": [
    {
     "name": "stderr",
     "output_type": "stream",
     "text": [
      "100%|██████████| 43/43 [36:11<00:00, 50.50s/it]\n"
     ]
    }
   ],
   "source": [
    "# incompatible sensilla RFNet \n",
    "num_neurons = sorted(set(np.logspace(0, 3.4, 50).astype('int')))\n",
    "inp_size = int(sampling_rate * duration)\n",
    "omega_a, omega_b, gamma = 7, 13, 6\n",
    "lr = 0.01\n",
    "num_epochs = 30\n",
    "log_interval = 100\n",
    "\n",
    "test_incompatible = {'hidden_size': [], 'mean': [], 'std': []}\n",
    "for hidden_size in tqdm(num_neurons):\n",
    "    accuracy = []\n",
    "    for trial in range(50):\n",
    "        model = sensilla_RFNet(inp_size, hidden_size, \n",
    "                                 omega_a, omega_b, gamma).to(device)\n",
    "        optimizer = optim.SGD(model.parameters(), lr=lr)\n",
    "\n",
    "        for epoch in range(num_epochs):\n",
    "            _ = train(log_interval, device, model, train_loader, optimizer, epoch, verbose=False)\n",
    "        accuracy.append(test(model, device, test_loader, verbose=False))\n",
    "        \n",
    "    test_incompatible['hidden_size'].append(hidden_size)\n",
    "    test_incompatible['mean'].append(np.mean(accuracy))\n",
    "    test_incompatible['std'].append(np.std(accuracy))"
   ]
  },
  {
   "cell_type": "code",
   "execution_count": 17,
   "id": "cd19c61f",
   "metadata": {},
   "outputs": [],
   "source": [
    "# save\n",
    "test = {'sensilla': test_sensilla, 'classical': test_classical, 'incompatible': test_incompatible}\n",
    "data_dir = path.abspath(path.join(os.getcwd(), '../../'))\n",
    "with open(data_dir + '/models/results/freq_XOR/freq_XOR_sensilla_torch.pickle', 'wb') as handle:\n",
    "    pickle.dump(test, handle, protocol=pickle.HIGHEST_PROTOCOL) "
   ]
  },
  {
   "cell_type": "code",
   "execution_count": null,
   "id": "eaa4b583",
   "metadata": {},
   "outputs": [],
   "source": []
  }
 ],
 "metadata": {
  "kernelspec": {
   "display_name": "Python 3",
   "language": "python",
   "name": "python3"
  },
  "language_info": {
   "codemirror_mode": {
    "name": "ipython",
    "version": 3
   },
   "file_extension": ".py",
   "mimetype": "text/x-python",
   "name": "python",
   "nbconvert_exporter": "python",
   "pygments_lexer": "ipython3",
   "version": "3.8.10"
  }
 },
 "nbformat": 4,
 "nbformat_minor": 5
}
