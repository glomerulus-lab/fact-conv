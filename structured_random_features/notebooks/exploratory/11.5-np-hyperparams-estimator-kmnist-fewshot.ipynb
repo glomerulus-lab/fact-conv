{
 "cells": [
  {
   "cell_type": "code",
   "execution_count": 1,
   "id": "a0236f24-ef9b-4df7-bab8-c45fd92020b4",
   "metadata": {},
   "outputs": [],
   "source": [
    "from os import getcwd\n",
    "from os.path import join, abspath\n",
    "\n",
    "from copy import deepcopy\n",
    "from joblib import Parallel, delayed, parallel_backend\n",
    "import matplotlib.pyplot as plt\n",
    "import numpy as np\n",
    "import pickle\n",
    "from sklearn.model_selection import train_test_split, cross_val_score\n",
    "from sklearn.svm import LinearSVC\n",
    "from tqdm import tqdm\n",
    "\n",
    "from src.models.estimator import RFClassifier, relu\n",
    "from src.models.weights import V1_weights, classical_weights\n",
    "from src.data.load_dataset import load_kmnist"
   ]
  },
  {
   "cell_type": "code",
   "execution_count": 2,
   "id": "07ef30f2-8a67-4b79-9a85-ddfa0b6e97d9",
   "metadata": {},
   "outputs": [],
   "source": [
    "data_dir = abspath(join(getcwd(), '../../'))"
   ]
  },
  {
   "cell_type": "code",
   "execution_count": 3,
   "id": "e58d6545-d399-4750-a61c-a7d68cc45059",
   "metadata": {},
   "outputs": [],
   "source": [
    "# load dataset\n",
    "train_loader, val_loader, test_loader = load_kmnist()\n",
    "train, test = train_loader.dataset.dataset, test_loader.dataset\n",
    "train, train_labels = train.data.numpy(), train.targets.numpy()\n",
    "X_test, y_test = test.data.numpy(), test.targets.numpy()\n",
    "\n",
    "X_train, X_val, y_train, y_val = train_test_split(train, train_labels, train_size=50, \n",
    "                                                  stratify=train_labels, random_state=42)\n",
    "\n",
    "# params\n",
    "h = 1000\n",
    "bias = 0\n",
    "nonlinearity = relu\n",
    "scale = 1\n",
    "center = None\n",
    "size, frequency = 8, 3\n",
    "kwargs = {'size':size, 'spatial_freq': frequency, 'center': None, 'scale': scale}\n",
    "cv = 3\n",
    "\n",
    "# ridge params \n",
    "alphas = np.logspace(-7, 7, 15)"
   ]
  },
  {
   "cell_type": "code",
   "execution_count": 4,
   "id": "84b4f197-a2e1-4d94-bfbd-ab9c7b7974a2",
   "metadata": {},
   "outputs": [
    {
     "name": "stderr",
     "output_type": "stream",
     "text": [
      "100%|██████████| 15/15 [00:17<00:00,  1.20s/it]\n"
     ]
    }
   ],
   "source": [
    "accuracy = np.zeros((len(alphas), cv))\n",
    "for i, a in enumerate(tqdm(alphas)):\n",
    "    clf = LinearSVC(C=a, tol=1e-4, max_iter=1000)\n",
    "    v1_clf = RFClassifier(h, V1_weights, bias, nonlinearity, deepcopy(clf), kwargs)\n",
    "    scores = cross_val_score(v1_clf, X_train, y_train, cv=cv, verbose=0)\n",
    "    accuracy[i] = scores"
   ]
  },
  {
   "cell_type": "code",
   "execution_count": 5,
   "id": "3e66649e-cee5-4a1e-b133-4ced45ba99c7",
   "metadata": {},
   "outputs": [
    {
     "name": "stdout",
     "output_type": "stream",
     "text": [
      "[[1.00000000e-07 4.81617647e-01]\n",
      " [1.00000000e-06 5.01225490e-01]\n",
      " [1.00000000e-05 5.20833333e-01]\n",
      " [1.00000000e-04 4.81617647e-01]\n",
      " [1.00000000e-03 5.01225490e-01]\n",
      " [1.00000000e-02 4.62009804e-01]\n",
      " [1.00000000e-01 5.01225490e-01]\n",
      " [1.00000000e+00 5.01225490e-01]\n",
      " [1.00000000e+01 5.01225490e-01]\n",
      " [1.00000000e+02 5.60049020e-01]\n",
      " [1.00000000e+03 5.01225490e-01]\n",
      " [1.00000000e+04 5.00000000e-01]\n",
      " [1.00000000e+05 5.40441176e-01]\n",
      " [1.00000000e+06 5.01225490e-01]\n",
      " [1.00000000e+07 5.40441176e-01]]\n",
      "0.01\n"
     ]
    },
    {
     "data": {
      "image/png": "[encoded data removed]",
      "text/plain": [
       "<Figure size 432x288 with 1 Axes>"
      ]
     },
     "metadata": {
      "needs_background": "light"
     },
     "output_type": "display_data"
    }
   ],
   "source": [
    "fig = plt.figure()\n",
    "ax = fig.add_subplot(111)\n",
    "mean = 1 - np.mean(accuracy, axis=1)\n",
    "std = np.std(accuracy, axis=1) / np.sqrt(cv)\n",
    "plt.semilogx(alphas, mean)\n",
    "plt.fill_between(alphas, mean - std, mean + std, alpha=0.2)\n",
    "ax.set_xticks(alphas)\n",
    "ax.set_xticklabels(alphas)\n",
    "plt.xlabel('Regularization parameter')\n",
    "plt.ylabel('accuracy')\n",
    "print(np.array(list(zip(alphas, mean))))\n",
    "\n",
    "a = alphas[np.argmin(mean)]\n",
    "print(a)"
   ]
  },
  {
   "cell_type": "code",
   "execution_count": 6,
   "id": "56e38f8d-98bf-4116-a1de-8fe26bd54065",
   "metadata": {},
   "outputs": [
    {
     "name": "stderr",
     "output_type": "stream",
     "text": [
      "  0%|          | 0/8 [00:00<?, ?it/s]/home/bpandey/anaconda3/envs/random_features/lib/python3.8/site-packages/sklearn/svm/_base.py:985: ConvergenceWarning: Liblinear failed to converge, increase the number of iterations.\n",
      "  warnings.warn(\"Liblinear failed to converge, increase \"\n",
      "/home/bpandey/anaconda3/envs/random_features/lib/python3.8/site-packages/sklearn/svm/_base.py:985: ConvergenceWarning: Liblinear failed to converge, increase the number of iterations.\n",
      "  warnings.warn(\"Liblinear failed to converge, increase \"\n",
      " 12%|█▎        | 1/8 [00:00<00:05,  1.28it/s]/home/bpandey/anaconda3/envs/random_features/lib/python3.8/site-packages/sklearn/svm/_base.py:985: ConvergenceWarning: Liblinear failed to converge, increase the number of iterations.\n",
      "  warnings.warn(\"Liblinear failed to converge, increase \"\n",
      "100%|██████████| 8/8 [00:11<00:00,  1.47s/it]\n"
     ]
    }
   ],
   "source": [
    "n_jobs = 3\n",
    "num_trials = 2\n",
    "num_neurons = [1, 50, 100, 250, 500, 1000, 3000, 5000]\n",
    "kwargs = {'size':5, 'spatial_freq':2, 'center':None, 'scale':scale}\n",
    "clf = LinearSVC(C=a, tol=1e-4, max_iter=1000)\n",
    "test_V1 = {'hidden_size': [], 'mean': [], 'std_err': []}\n",
    "\n",
    "for n in tqdm(num_neurons):\n",
    "    classifiers = [RFClassifier(n, V1_weights, bias, nonlinearity, deepcopy(clf), kwargs) for i in range(num_trials)]\n",
    "    with parallel_backend('threading', n_jobs=n_jobs):\n",
    "        Parallel()(delayed(RFclf.fit)(X_train, y_train) for RFclf in classifiers)\n",
    "        test_accuracy = [RFclf.score(X_test, y_test) for RFclf in classifiers]\n",
    "    \n",
    "    test_V1['mean'].append(np.mean(test_accuracy))\n",
    "    test_V1['std_err'].append(np.std(test_accuracy) / np.sqrt(num_trials))\n",
    "    test_V1['hidden_size'].append(n)"
   ]
  },
  {
   "cell_type": "code",
   "execution_count": 7,
   "id": "9cb0e6fc-c39f-488c-8fb1-f48448e34857",
   "metadata": {},
   "outputs": [
    {
     "name": "stderr",
     "output_type": "stream",
     "text": [
      "  0%|          | 0/8 [00:00<?, ?it/s]/home/bpandey/anaconda3/envs/random_features/lib/python3.8/site-packages/sklearn/svm/_base.py:985: ConvergenceWarning: Liblinear failed to converge, increase the number of iterations.\n",
      "  warnings.warn(\"Liblinear failed to converge, increase \"\n",
      "/home/bpandey/anaconda3/envs/random_features/lib/python3.8/site-packages/sklearn/svm/_base.py:985: ConvergenceWarning: Liblinear failed to converge, increase the number of iterations.\n",
      "  warnings.warn(\"Liblinear failed to converge, increase \"\n",
      "100%|██████████| 8/8 [00:10<00:00,  1.31s/it]\n"
     ]
    }
   ],
   "source": [
    "n_jobs = 3\n",
    "num_trials = 2\n",
    "num_neurons = [1, 50, 100, 250, 500, 1000, 3000, 5000]\n",
    "kwargs = {'scale':scale}\n",
    "clf = LinearSVC(C=a, tol=1e-4, max_iter=1000)\n",
    "test_classical = {'hidden_size': [], 'mean': [], 'std_err': []}\n",
    "\n",
    "for n in tqdm(num_neurons):\n",
    "    classifiers = [RFClassifier(n, classical_weights, bias, nonlinearity, deepcopy(clf), kwargs) for i in range(num_trials)]\n",
    "    with parallel_backend('threading', n_jobs=n_jobs):\n",
    "        Parallel()(delayed(RFclf.fit)(X_train, y_train) for RFclf in classifiers)\n",
    "        test_accuracy = [RFclf.score(X_test, y_test) for RFclf in classifiers]\n",
    "        \n",
    "    test_classical['mean'].append(np.mean(test_accuracy))\n",
    "    test_classical['std_err'].append(np.std(test_accuracy) / np.sqrt(num_trials))\n",
    "    test_classical['hidden_size'].append(n)"
   ]
  },
  {
   "cell_type": "code",
   "execution_count": 10,
   "id": "ee5b712d-7380-4709-ae1c-e0060f6951fc",
   "metadata": {},
   "outputs": [
    {
     "data": {
      "text/plain": [
       "[<matplotlib.lines.Line2D at 0x7fda8d9075b0>]"
      ]
     },
     "execution_count": 10,
     "metadata": {},
     "output_type": "execute_result"
    },
    {
     "data": {
      "image/png": "[encoded data removed]",
      "text/plain": [
       "<Figure size 432x288 with 1 Axes>"
      ]
     },
     "metadata": {
      "needs_background": "light"
     },
     "output_type": "display_data"
    }
   ],
   "source": [
    "fig = plt.figure()\n",
    "plt.plot(test_V1['hidden_size'], 1 - np.array(test_V1['mean']), c='#2c7fb8')\n",
    "plt.plot(test_classical['hidden_size'], 1 - np.array(test_classical['mean']), c='#d95f02')\n",
    "# plt.xlim([0, 1000])"
   ]
  },
  {
   "cell_type": "code",
   "execution_count": 9,
   "id": "c271e407-6f10-487c-927d-6e72a79d782b",
   "metadata": {},
   "outputs": [
    {
     "data": {
      "text/plain": [
       "(0.60795, 0.63775)"
      ]
     },
     "execution_count": 9,
     "metadata": {},
     "output_type": "execute_result"
    }
   ],
   "source": [
    "1 - np.array(test_V1['mean'])[-1], 1 - np.array(test_classical['mean'])[-1]"
   ]
  },
  {
   "cell_type": "code",
   "execution_count": null,
   "id": "a6ed1de6-6030-4438-86bc-4cb84a4e1b89",
   "metadata": {},
   "outputs": [],
   "source": []
  },
  {
   "cell_type": "code",
   "execution_count": null,
   "id": "3d7201f3-2ae7-40a8-81b7-14e18727a713",
   "metadata": {},
   "outputs": [],
   "source": []
  }
 ],
 "metadata": {
  "kernelspec": {
   "display_name": "Python 3",
   "language": "python",
   "name": "python3"
  },
  "language_info": {
   "codemirror_mode": {
    "name": "ipython",
    "version": 3
   },
   "file_extension": ".py",
   "mimetype": "text/x-python",
   "name": "python",
   "nbconvert_exporter": "python",
   "pygments_lexer": "ipython3",
   "version": "3.8.10"
  }
 },
 "nbformat": 4,
 "nbformat_minor": 5
}
